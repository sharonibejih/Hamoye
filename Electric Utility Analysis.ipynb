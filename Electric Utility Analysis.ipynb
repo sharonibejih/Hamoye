{
 "cells": [
  {
   "cell_type": "markdown",
   "metadata": {},
   "source": [
    "## Exploratory Data Analysis on Electric Utilities"
   ]
  },
  {
   "cell_type": "code",
   "execution_count": 1,
   "metadata": {},
   "outputs": [],
   "source": [
    "# IMPORTING LIBRARIES\n",
    "\n",
    "import pandas as pd\n",
    "import numpy as np\n",
    "\n",
    "%matplotlib inline\n",
    "import matplotlib.pyplot as plt\n",
    "import seaborn as sns\n",
    "\n",
    "import warnings"
   ]
  },
  {
   "cell_type": "code",
   "execution_count": 2,
   "metadata": {},
   "outputs": [
    {
     "data": {
      "text/html": [
       "<div>\n",
       "<style scoped>\n",
       "    .dataframe tbody tr th:only-of-type {\n",
       "        vertical-align: middle;\n",
       "    }\n",
       "\n",
       "    .dataframe tbody tr th {\n",
       "        vertical-align: top;\n",
       "    }\n",
       "\n",
       "    .dataframe thead th {\n",
       "        text-align: right;\n",
       "    }\n",
       "</style>\n",
       "<table border=\"1\" class=\"dataframe\">\n",
       "  <thead>\n",
       "    <tr style=\"text-align: right;\">\n",
       "      <th></th>\n",
       "      <th>record_id</th>\n",
       "      <th>utility_id_ferc1</th>\n",
       "      <th>report_year</th>\n",
       "      <th>plant_name_ferc1</th>\n",
       "      <th>fuel_type_code_pudl</th>\n",
       "      <th>fuel_unit</th>\n",
       "      <th>fuel_qty_burned</th>\n",
       "      <th>fuel_mmbtu_per_unit</th>\n",
       "      <th>fuel_cost_per_unit_burned</th>\n",
       "      <th>fuel_cost_per_unit_delivered</th>\n",
       "      <th>fuel_cost_per_mmbtu</th>\n",
       "    </tr>\n",
       "  </thead>\n",
       "  <tbody>\n",
       "    <tr>\n",
       "      <th>25632</th>\n",
       "      <td>f1_fuel_2015_12_22_0_1</td>\n",
       "      <td>22</td>\n",
       "      <td>2015</td>\n",
       "      <td>teche</td>\n",
       "      <td>gas</td>\n",
       "      <td>mcf</td>\n",
       "      <td>1167807.0</td>\n",
       "      <td>1.037462</td>\n",
       "      <td>2.892</td>\n",
       "      <td>2.892</td>\n",
       "      <td>2.787</td>\n",
       "    </tr>\n",
       "    <tr>\n",
       "      <th>4976</th>\n",
       "      <td>f1_fuel_1998_12_127_1_1</td>\n",
       "      <td>127</td>\n",
       "      <td>1998</td>\n",
       "      <td>cardinal-opco share</td>\n",
       "      <td>coal</td>\n",
       "      <td>ton</td>\n",
       "      <td>1722558.0</td>\n",
       "      <td>24.428000</td>\n",
       "      <td>46.750</td>\n",
       "      <td>42.480</td>\n",
       "      <td>1.914</td>\n",
       "    </tr>\n",
       "    <tr>\n",
       "      <th>17005</th>\n",
       "      <td>f1_fuel_2008_12_210_2_11</td>\n",
       "      <td>210</td>\n",
       "      <td>2008</td>\n",
       "      <td>greater dm energy</td>\n",
       "      <td>gas</td>\n",
       "      <td>mcf</td>\n",
       "      <td>7710786.0</td>\n",
       "      <td>1.018188</td>\n",
       "      <td>8.907</td>\n",
       "      <td>8.907</td>\n",
       "      <td>8.748</td>\n",
       "    </tr>\n",
       "    <tr>\n",
       "      <th>13546</th>\n",
       "      <td>f1_fuel_2005_12_177_3_4</td>\n",
       "      <td>177</td>\n",
       "      <td>2005</td>\n",
       "      <td>pickneyville</td>\n",
       "      <td>gas</td>\n",
       "      <td>mcf</td>\n",
       "      <td>1323500.0</td>\n",
       "      <td>1.030000</td>\n",
       "      <td>9.370</td>\n",
       "      <td>9.370</td>\n",
       "      <td>9.100</td>\n",
       "    </tr>\n",
       "    <tr>\n",
       "      <th>9972</th>\n",
       "      <td>f1_fuel_2002_12_186_2_1</td>\n",
       "      <td>186</td>\n",
       "      <td>2002</td>\n",
       "      <td>chesapeake</td>\n",
       "      <td>oil</td>\n",
       "      <td>bbl</td>\n",
       "      <td>1659.0</td>\n",
       "      <td>5.880000</td>\n",
       "      <td>34.573</td>\n",
       "      <td>36.140</td>\n",
       "      <td>5.880</td>\n",
       "    </tr>\n",
       "  </tbody>\n",
       "</table>\n",
       "</div>"
      ],
      "text/plain": [
       "                      record_id  utility_id_ferc1  report_year  \\\n",
       "25632    f1_fuel_2015_12_22_0_1                22         2015   \n",
       "4976    f1_fuel_1998_12_127_1_1               127         1998   \n",
       "17005  f1_fuel_2008_12_210_2_11               210         2008   \n",
       "13546   f1_fuel_2005_12_177_3_4               177         2005   \n",
       "9972    f1_fuel_2002_12_186_2_1               186         2002   \n",
       "\n",
       "          plant_name_ferc1 fuel_type_code_pudl fuel_unit  fuel_qty_burned  \\\n",
       "25632                teche                 gas       mcf        1167807.0   \n",
       "4976   cardinal-opco share                coal       ton        1722558.0   \n",
       "17005    greater dm energy                 gas       mcf        7710786.0   \n",
       "13546         pickneyville                 gas       mcf        1323500.0   \n",
       "9972            chesapeake                 oil       bbl           1659.0   \n",
       "\n",
       "       fuel_mmbtu_per_unit  fuel_cost_per_unit_burned  \\\n",
       "25632             1.037462                      2.892   \n",
       "4976             24.428000                     46.750   \n",
       "17005             1.018188                      8.907   \n",
       "13546             1.030000                      9.370   \n",
       "9972              5.880000                     34.573   \n",
       "\n",
       "       fuel_cost_per_unit_delivered  fuel_cost_per_mmbtu  \n",
       "25632                         2.892                2.787  \n",
       "4976                         42.480                1.914  \n",
       "17005                         8.907                8.748  \n",
       "13546                         9.370                9.100  \n",
       "9972                         36.140                5.880  "
      ]
     },
     "execution_count": 2,
     "metadata": {},
     "output_type": "execute_result"
    }
   ],
   "source": [
    "# LOADING THE DATA\n",
    "\n",
    "data = pd.read_csv('C:\\\\Users\\\\Sharon\\\\HAMOYE\\\\fuel_ferc1.csv')\n",
    "data.sample(5)"
   ]
  },
  {
   "cell_type": "code",
   "execution_count": 3,
   "metadata": {},
   "outputs": [
    {
     "data": {
      "text/plain": [
       "(29523, 11)"
      ]
     },
     "execution_count": 3,
     "metadata": {},
     "output_type": "execute_result"
    }
   ],
   "source": [
    "data.shape"
   ]
  },
  {
   "cell_type": "markdown",
   "metadata": {},
   "source": [
    "> **DATA CLEANING**"
   ]
  },
  {
   "cell_type": "code",
   "execution_count": 4,
   "metadata": {},
   "outputs": [
    {
     "data": {
      "text/plain": [
       "record_id                         0\n",
       "utility_id_ferc1                  0\n",
       "report_year                       0\n",
       "plant_name_ferc1                  0\n",
       "fuel_type_code_pudl               0\n",
       "fuel_unit                       180\n",
       "fuel_qty_burned                   0\n",
       "fuel_mmbtu_per_unit               0\n",
       "fuel_cost_per_unit_burned         0\n",
       "fuel_cost_per_unit_delivered      0\n",
       "fuel_cost_per_mmbtu               0\n",
       "dtype: int64"
      ]
     },
     "execution_count": 4,
     "metadata": {},
     "output_type": "execute_result"
    }
   ],
   "source": [
    "data.isnull().sum()"
   ]
  },
  {
   "cell_type": "code",
   "execution_count": 5,
   "metadata": {},
   "outputs": [
    {
     "data": {
      "text/html": [
       "<div>\n",
       "<style scoped>\n",
       "    .dataframe tbody tr th:only-of-type {\n",
       "        vertical-align: middle;\n",
       "    }\n",
       "\n",
       "    .dataframe tbody tr th {\n",
       "        vertical-align: top;\n",
       "    }\n",
       "\n",
       "    .dataframe thead th {\n",
       "        text-align: right;\n",
       "    }\n",
       "</style>\n",
       "<table border=\"1\" class=\"dataframe\">\n",
       "  <thead>\n",
       "    <tr style=\"text-align: right;\">\n",
       "      <th></th>\n",
       "      <th>fuel_type_code_pudl</th>\n",
       "      <th>fuel_unit</th>\n",
       "    </tr>\n",
       "  </thead>\n",
       "  <tbody>\n",
       "    <tr>\n",
       "      <th>28445</th>\n",
       "      <td>gas</td>\n",
       "      <td>mcf</td>\n",
       "    </tr>\n",
       "    <tr>\n",
       "      <th>1946</th>\n",
       "      <td>gas</td>\n",
       "      <td>mcf</td>\n",
       "    </tr>\n",
       "    <tr>\n",
       "      <th>23998</th>\n",
       "      <td>coal</td>\n",
       "      <td>ton</td>\n",
       "    </tr>\n",
       "  </tbody>\n",
       "</table>\n",
       "</div>"
      ],
      "text/plain": [
       "      fuel_type_code_pudl fuel_unit\n",
       "28445                 gas       mcf\n",
       "1946                  gas       mcf\n",
       "23998                coal       ton"
      ]
     },
     "execution_count": 5,
     "metadata": {},
     "output_type": "execute_result"
    }
   ],
   "source": [
    "x = data[['fuel_type_code_pudl', 'fuel_unit']]\n",
    "x.sample(3)"
   ]
  },
  {
   "cell_type": "code",
   "execution_count": 6,
   "metadata": {},
   "outputs": [
    {
     "data": {
      "text/plain": [
       "gas        11486\n",
       "coal        8547\n",
       "oil         8064\n",
       "nuclear      818\n",
       "waste        441\n",
       "other        167\n",
       "Name: fuel_type_code_pudl, dtype: int64"
      ]
     },
     "execution_count": 6,
     "metadata": {},
     "output_type": "execute_result"
    }
   ],
   "source": [
    "x.fuel_type_code_pudl.value_counts() "
   ]
  },
  {
   "cell_type": "code",
   "execution_count": 7,
   "metadata": {},
   "outputs": [
    {
     "data": {
      "text/plain": [
       "{'fuel_unit': {'coal': 'ton',\n",
       "  'gas': 'mcf',\n",
       "  'nuclear': 'gramsU',\n",
       "  'oil': 'bbl',\n",
       "  'waste': 'ton',\n",
       "  'other': nan}}"
      ]
     },
     "execution_count": 7,
     "metadata": {},
     "output_type": "execute_result"
    }
   ],
   "source": [
    "# SHOWING THE MAPPING BETWEEN FUEL TYPES AND UNITS\n",
    "\n",
    "x.set_index('fuel_type_code_pudl', inplace = True)\n",
    "x = x.to_dict()\n",
    "x"
   ]
  },
  {
   "cell_type": "code",
   "execution_count": 8,
   "metadata": {},
   "outputs": [],
   "source": [
    "data = data.dropna()\n",
    "data = data.drop_duplicates()"
   ]
  },
  {
   "cell_type": "markdown",
   "metadata": {},
   "source": [
    ">**STATISTICAL APPROACH**"
   ]
  },
  {
   "cell_type": "code",
   "execution_count": 9,
   "metadata": {},
   "outputs": [
    {
     "data": {
      "text/html": [
       "<div>\n",
       "<style scoped>\n",
       "    .dataframe tbody tr th:only-of-type {\n",
       "        vertical-align: middle;\n",
       "    }\n",
       "\n",
       "    .dataframe tbody tr th {\n",
       "        vertical-align: top;\n",
       "    }\n",
       "\n",
       "    .dataframe thead th {\n",
       "        text-align: right;\n",
       "    }\n",
       "</style>\n",
       "<table border=\"1\" class=\"dataframe\">\n",
       "  <thead>\n",
       "    <tr style=\"text-align: right;\">\n",
       "      <th></th>\n",
       "      <th>utility_id_ferc1</th>\n",
       "      <th>report_year</th>\n",
       "      <th>fuel_qty_burned</th>\n",
       "      <th>fuel_mmbtu_per_unit</th>\n",
       "      <th>fuel_cost_per_unit_burned</th>\n",
       "      <th>fuel_cost_per_unit_delivered</th>\n",
       "      <th>fuel_cost_per_mmbtu</th>\n",
       "    </tr>\n",
       "  </thead>\n",
       "  <tbody>\n",
       "    <tr>\n",
       "      <th>count</th>\n",
       "      <td>29343.000000</td>\n",
       "      <td>29343.000000</td>\n",
       "      <td>2.934300e+04</td>\n",
       "      <td>29343.000000</td>\n",
       "      <td>29343.000000</td>\n",
       "      <td>2.934300e+04</td>\n",
       "      <td>29343.000000</td>\n",
       "    </tr>\n",
       "    <tr>\n",
       "      <th>mean</th>\n",
       "      <td>118.507037</td>\n",
       "      <td>2005.819105</td>\n",
       "      <td>2.609171e+06</td>\n",
       "      <td>8.477481</td>\n",
       "      <td>209.756592</td>\n",
       "      <td>9.230343e+02</td>\n",
       "      <td>18.543975</td>\n",
       "    </tr>\n",
       "    <tr>\n",
       "      <th>std</th>\n",
       "      <td>74.241226</td>\n",
       "      <td>7.019855</td>\n",
       "      <td>8.798699e+06</td>\n",
       "      <td>10.537478</td>\n",
       "      <td>2863.194789</td>\n",
       "      <td>6.898652e+04</td>\n",
       "      <td>2097.367750</td>\n",
       "    </tr>\n",
       "    <tr>\n",
       "      <th>min</th>\n",
       "      <td>1.000000</td>\n",
       "      <td>1994.000000</td>\n",
       "      <td>1.000000e+00</td>\n",
       "      <td>0.000001</td>\n",
       "      <td>-276.080000</td>\n",
       "      <td>-8.749370e+02</td>\n",
       "      <td>-41.501000</td>\n",
       "    </tr>\n",
       "    <tr>\n",
       "      <th>25%</th>\n",
       "      <td>55.000000</td>\n",
       "      <td>2000.000000</td>\n",
       "      <td>1.375050e+04</td>\n",
       "      <td>1.024000</td>\n",
       "      <td>5.230000</td>\n",
       "      <td>3.793000e+00</td>\n",
       "      <td>1.950000</td>\n",
       "    </tr>\n",
       "    <tr>\n",
       "      <th>50%</th>\n",
       "      <td>122.000000</td>\n",
       "      <td>2006.000000</td>\n",
       "      <td>2.524640e+05</td>\n",
       "      <td>5.763072</td>\n",
       "      <td>26.039000</td>\n",
       "      <td>1.749000e+01</td>\n",
       "      <td>4.140000</td>\n",
       "    </tr>\n",
       "    <tr>\n",
       "      <th>75%</th>\n",
       "      <td>176.000000</td>\n",
       "      <td>2012.000000</td>\n",
       "      <td>1.424218e+06</td>\n",
       "      <td>17.000000</td>\n",
       "      <td>47.172000</td>\n",
       "      <td>4.220850e+01</td>\n",
       "      <td>7.752000</td>\n",
       "    </tr>\n",
       "    <tr>\n",
       "      <th>max</th>\n",
       "      <td>514.000000</td>\n",
       "      <td>2018.000000</td>\n",
       "      <td>5.558942e+08</td>\n",
       "      <td>341.260000</td>\n",
       "      <td>139358.000000</td>\n",
       "      <td>7.964521e+06</td>\n",
       "      <td>359278.000000</td>\n",
       "    </tr>\n",
       "  </tbody>\n",
       "</table>\n",
       "</div>"
      ],
      "text/plain": [
       "       utility_id_ferc1   report_year  fuel_qty_burned  fuel_mmbtu_per_unit  \\\n",
       "count      29343.000000  29343.000000     2.934300e+04         29343.000000   \n",
       "mean         118.507037   2005.819105     2.609171e+06             8.477481   \n",
       "std           74.241226      7.019855     8.798699e+06            10.537478   \n",
       "min            1.000000   1994.000000     1.000000e+00             0.000001   \n",
       "25%           55.000000   2000.000000     1.375050e+04             1.024000   \n",
       "50%          122.000000   2006.000000     2.524640e+05             5.763072   \n",
       "75%          176.000000   2012.000000     1.424218e+06            17.000000   \n",
       "max          514.000000   2018.000000     5.558942e+08           341.260000   \n",
       "\n",
       "       fuel_cost_per_unit_burned  fuel_cost_per_unit_delivered  \\\n",
       "count               29343.000000                  2.934300e+04   \n",
       "mean                  209.756592                  9.230343e+02   \n",
       "std                  2863.194789                  6.898652e+04   \n",
       "min                  -276.080000                 -8.749370e+02   \n",
       "25%                     5.230000                  3.793000e+00   \n",
       "50%                    26.039000                  1.749000e+01   \n",
       "75%                    47.172000                  4.220850e+01   \n",
       "max                139358.000000                  7.964521e+06   \n",
       "\n",
       "       fuel_cost_per_mmbtu  \n",
       "count         29343.000000  \n",
       "mean             18.543975  \n",
       "std            2097.367750  \n",
       "min             -41.501000  \n",
       "25%               1.950000  \n",
       "50%               4.140000  \n",
       "75%               7.752000  \n",
       "max          359278.000000  "
      ]
     },
     "execution_count": 9,
     "metadata": {},
     "output_type": "execute_result"
    }
   ],
   "source": [
    "data.describe()"
   ]
  },
  {
   "cell_type": "markdown",
   "metadata": {},
   "source": [
    "> From the summary statistics of the data, it tells that there is most likely the occurance of outliers as the Mean and Median(50%) values in some columns are out ranged. Some of these columns are: `fuel_qty_burned`, `fuel_cost_per_unit_burned`, `fuel_cost_per_unit_delivered`, `fuel_cost_per_mmbtu`, `fuel_lost_per_unit` and `energy emitted`\n",
    "\n",
    "> Therefore, the data will be transformed using a standard deviation of 1, to reduce the extreme values. However, these data samples are based on the information gathered on each fuel type used by different electric utilities. It was also discovered that each of the fuel types, have various measuring units. In this case, to aviod being misled, the data transform will be done individully per fuel type with their respective units."
   ]
  },
  {
   "cell_type": "code",
   "execution_count": 11,
   "metadata": {},
   "outputs": [
    {
     "data": {
      "text/html": [
       "<div>\n",
       "<style scoped>\n",
       "    .dataframe tbody tr th:only-of-type {\n",
       "        vertical-align: middle;\n",
       "    }\n",
       "\n",
       "    .dataframe tbody tr th {\n",
       "        vertical-align: top;\n",
       "    }\n",
       "\n",
       "    .dataframe thead th {\n",
       "        text-align: right;\n",
       "    }\n",
       "</style>\n",
       "<table border=\"1\" class=\"dataframe\">\n",
       "  <thead>\n",
       "    <tr style=\"text-align: right;\">\n",
       "      <th></th>\n",
       "      <th>record_id</th>\n",
       "      <th>utility_id_ferc1</th>\n",
       "      <th>report_year</th>\n",
       "      <th>plant_name_ferc1</th>\n",
       "      <th>fuel_unit</th>\n",
       "      <th>fuel_qty_burned</th>\n",
       "      <th>fuel_mmbtu_per_unit</th>\n",
       "      <th>fuel_cost_per_unit_burned</th>\n",
       "      <th>fuel_cost_per_unit_delivered</th>\n",
       "      <th>fuel_cost_per_mmbtu</th>\n",
       "    </tr>\n",
       "    <tr>\n",
       "      <th>fuel_type_code_pudl</th>\n",
       "      <th></th>\n",
       "      <th></th>\n",
       "      <th></th>\n",
       "      <th></th>\n",
       "      <th></th>\n",
       "      <th></th>\n",
       "      <th></th>\n",
       "      <th></th>\n",
       "      <th></th>\n",
       "      <th></th>\n",
       "    </tr>\n",
       "  </thead>\n",
       "  <tbody>\n",
       "    <tr>\n",
       "      <th>gas</th>\n",
       "      <td>f1_fuel_2018_12_166_0_1</td>\n",
       "      <td>166</td>\n",
       "      <td>2018</td>\n",
       "      <td>jones gas</td>\n",
       "      <td>mcf</td>\n",
       "      <td>8549839.0</td>\n",
       "      <td>1.048</td>\n",
       "      <td>2.46</td>\n",
       "      <td>2.45</td>\n",
       "      <td>2.34</td>\n",
       "    </tr>\n",
       "  </tbody>\n",
       "</table>\n",
       "</div>"
      ],
      "text/plain": [
       "                                   record_id  utility_id_ferc1  report_year  \\\n",
       "fuel_type_code_pudl                                                           \n",
       "gas                  f1_fuel_2018_12_166_0_1               166         2018   \n",
       "\n",
       "                    plant_name_ferc1 fuel_unit  fuel_qty_burned  \\\n",
       "fuel_type_code_pudl                                               \n",
       "gas                        jones gas       mcf        8549839.0   \n",
       "\n",
       "                     fuel_mmbtu_per_unit  fuel_cost_per_unit_burned  \\\n",
       "fuel_type_code_pudl                                                   \n",
       "gas                                1.048                       2.46   \n",
       "\n",
       "                     fuel_cost_per_unit_delivered  fuel_cost_per_mmbtu  \n",
       "fuel_type_code_pudl                                                     \n",
       "gas                                          2.45                 2.34  "
      ]
     },
     "execution_count": 11,
     "metadata": {},
     "output_type": "execute_result"
    }
   ],
   "source": [
    "scale = data.set_index('fuel_type_code_pudl')\n",
    "scale.sample()"
   ]
  },
  {
   "cell_type": "code",
   "execution_count": 12,
   "metadata": {},
   "outputs": [
    {
     "data": {
      "text/html": [
       "<div>\n",
       "<style scoped>\n",
       "    .dataframe tbody tr th:only-of-type {\n",
       "        vertical-align: middle;\n",
       "    }\n",
       "\n",
       "    .dataframe tbody tr th {\n",
       "        vertical-align: top;\n",
       "    }\n",
       "\n",
       "    .dataframe thead th {\n",
       "        text-align: right;\n",
       "    }\n",
       "</style>\n",
       "<table border=\"1\" class=\"dataframe\">\n",
       "  <thead>\n",
       "    <tr style=\"text-align: right;\">\n",
       "      <th></th>\n",
       "      <th>record_id</th>\n",
       "      <th>utility_id_ferc1</th>\n",
       "      <th>report_year</th>\n",
       "      <th>plant_name_ferc1</th>\n",
       "      <th>fuel_unit</th>\n",
       "      <th>fuel_qty_burned</th>\n",
       "      <th>fuel_mmbtu_per_unit</th>\n",
       "      <th>fuel_cost_per_unit_burned</th>\n",
       "      <th>fuel_cost_per_unit_delivered</th>\n",
       "      <th>fuel_cost_per_mmbtu</th>\n",
       "    </tr>\n",
       "    <tr>\n",
       "      <th>fuel_type_code_pudl</th>\n",
       "      <th></th>\n",
       "      <th></th>\n",
       "      <th></th>\n",
       "      <th></th>\n",
       "      <th></th>\n",
       "      <th></th>\n",
       "      <th></th>\n",
       "      <th></th>\n",
       "      <th></th>\n",
       "      <th></th>\n",
       "    </tr>\n",
       "  </thead>\n",
       "  <tbody>\n",
       "    <tr>\n",
       "      <th>coal</th>\n",
       "      <td>f1_fuel_1999_12_62_0_10</td>\n",
       "      <td>62</td>\n",
       "      <td>1999</td>\n",
       "      <td>daniel</td>\n",
       "      <td>ton</td>\n",
       "      <td>1477499.0</td>\n",
       "      <td>20.400</td>\n",
       "      <td>31.088</td>\n",
       "      <td>30.913</td>\n",
       "      <td>1.5240</td>\n",
       "    </tr>\n",
       "    <tr>\n",
       "      <th>coal</th>\n",
       "      <td>f1_fuel_1996_12_186_0_7</td>\n",
       "      <td>186</td>\n",
       "      <td>1996</td>\n",
       "      <td>mount storm</td>\n",
       "      <td>ton</td>\n",
       "      <td>4378753.0</td>\n",
       "      <td>24.532</td>\n",
       "      <td>31.207</td>\n",
       "      <td>28.670</td>\n",
       "      <td>1.2720</td>\n",
       "    </tr>\n",
       "    <tr>\n",
       "      <th>coal</th>\n",
       "      <td>f1_fuel_1996_12_30_0_11</td>\n",
       "      <td>30</td>\n",
       "      <td>1996</td>\n",
       "      <td>bruce mansfield</td>\n",
       "      <td>ton</td>\n",
       "      <td>1272554.0</td>\n",
       "      <td>24.038</td>\n",
       "      <td>39.760</td>\n",
       "      <td>39.970</td>\n",
       "      <td>1.6541</td>\n",
       "    </tr>\n",
       "  </tbody>\n",
       "</table>\n",
       "</div>"
      ],
      "text/plain": [
       "                                   record_id  utility_id_ferc1  report_year  \\\n",
       "fuel_type_code_pudl                                                           \n",
       "coal                 f1_fuel_1999_12_62_0_10                62         1999   \n",
       "coal                 f1_fuel_1996_12_186_0_7               186         1996   \n",
       "coal                 f1_fuel_1996_12_30_0_11                30         1996   \n",
       "\n",
       "                    plant_name_ferc1 fuel_unit  fuel_qty_burned  \\\n",
       "fuel_type_code_pudl                                               \n",
       "coal                          daniel       ton        1477499.0   \n",
       "coal                     mount storm       ton        4378753.0   \n",
       "coal                 bruce mansfield       ton        1272554.0   \n",
       "\n",
       "                     fuel_mmbtu_per_unit  fuel_cost_per_unit_burned  \\\n",
       "fuel_type_code_pudl                                                   \n",
       "coal                              20.400                     31.088   \n",
       "coal                              24.532                     31.207   \n",
       "coal                              24.038                     39.760   \n",
       "\n",
       "                     fuel_cost_per_unit_delivered  fuel_cost_per_mmbtu  \n",
       "fuel_type_code_pudl                                                     \n",
       "coal                                       30.913               1.5240  \n",
       "coal                                       28.670               1.2720  \n",
       "coal                                       39.970               1.6541  "
      ]
     },
     "execution_count": 12,
     "metadata": {},
     "output_type": "execute_result"
    }
   ],
   "source": [
    "# COAL FUEL TYPE\n",
    "\n",
    "scale_coal = scale.loc['coal']\n",
    "scale_coal.sample(3)"
   ]
  },
  {
   "cell_type": "code",
   "execution_count": 13,
   "metadata": {},
   "outputs": [
    {
     "data": {
      "text/plain": [
       "fuel_unit\n",
       "bbl         1\n",
       "mcf         5\n",
       "mmbtu      52\n",
       "ton      8438\n",
       "Name: fuel_unit, dtype: int64"
      ]
     },
     "execution_count": 13,
     "metadata": {},
     "output_type": "execute_result"
    }
   ],
   "source": [
    "scale_coal.groupby('fuel_unit')['fuel_unit'].count()"
   ]
  },
  {
   "cell_type": "code",
   "execution_count": 35,
   "metadata": {},
   "outputs": [
    {
     "data": {
      "text/html": [
       "<div>\n",
       "<style scoped>\n",
       "    .dataframe tbody tr th:only-of-type {\n",
       "        vertical-align: middle;\n",
       "    }\n",
       "\n",
       "    .dataframe tbody tr th {\n",
       "        vertical-align: top;\n",
       "    }\n",
       "\n",
       "    .dataframe thead th {\n",
       "        text-align: right;\n",
       "    }\n",
       "</style>\n",
       "<table border=\"1\" class=\"dataframe\">\n",
       "  <thead>\n",
       "    <tr style=\"text-align: right;\">\n",
       "      <th></th>\n",
       "      <th>utility_id_ferc1</th>\n",
       "      <th>report_year</th>\n",
       "      <th>fuel_qty_burned</th>\n",
       "      <th>fuel_mmbtu_per_unit</th>\n",
       "      <th>fuel_cost_per_unit_burned</th>\n",
       "      <th>fuel_cost_per_unit_delivered</th>\n",
       "      <th>fuel_cost_per_mmbtu</th>\n",
       "    </tr>\n",
       "  </thead>\n",
       "  <tbody>\n",
       "    <tr>\n",
       "      <th>count</th>\n",
       "      <td>8438.000000</td>\n",
       "      <td>8438.000000</td>\n",
       "      <td>8.315000e+03</td>\n",
       "      <td>4912.000000</td>\n",
       "      <td>8424.000000</td>\n",
       "      <td>8431.000000</td>\n",
       "      <td>6476.000000</td>\n",
       "    </tr>\n",
       "    <tr>\n",
       "      <th>mean</th>\n",
       "      <td>115.970609</td>\n",
       "      <td>2004.655961</td>\n",
       "      <td>1.511918e+06</td>\n",
       "      <td>20.603478</td>\n",
       "      <td>37.613729</td>\n",
       "      <td>36.752172</td>\n",
       "      <td>1.612368</td>\n",
       "    </tr>\n",
       "    <tr>\n",
       "      <th>std</th>\n",
       "      <td>72.995507</td>\n",
       "      <td>7.137471</td>\n",
       "      <td>1.542832e+06</td>\n",
       "      <td>2.562410</td>\n",
       "      <td>19.737585</td>\n",
       "      <td>65.214306</td>\n",
       "      <td>0.423085</td>\n",
       "    </tr>\n",
       "    <tr>\n",
       "      <th>min</th>\n",
       "      <td>1.000000</td>\n",
       "      <td>1994.000000</td>\n",
       "      <td>3.000000e+00</td>\n",
       "      <td>17.204000</td>\n",
       "      <td>0.000000</td>\n",
       "      <td>-40.725000</td>\n",
       "      <td>0.986000</td>\n",
       "    </tr>\n",
       "    <tr>\n",
       "      <th>25%</th>\n",
       "      <td>51.000000</td>\n",
       "      <td>1998.000000</td>\n",
       "      <td>4.502050e+05</td>\n",
       "      <td>17.810000</td>\n",
       "      <td>24.100750</td>\n",
       "      <td>21.879000</td>\n",
       "      <td>1.256000</td>\n",
       "    </tr>\n",
       "    <tr>\n",
       "      <th>50%</th>\n",
       "      <td>122.000000</td>\n",
       "      <td>2004.000000</td>\n",
       "      <td>9.779880e+05</td>\n",
       "      <td>20.715000</td>\n",
       "      <td>33.440000</td>\n",
       "      <td>31.570000</td>\n",
       "      <td>1.545000</td>\n",
       "    </tr>\n",
       "    <tr>\n",
       "      <th>75%</th>\n",
       "      <td>175.000000</td>\n",
       "      <td>2011.000000</td>\n",
       "      <td>1.998981e+06</td>\n",
       "      <td>23.036500</td>\n",
       "      <td>44.674750</td>\n",
       "      <td>43.500000</td>\n",
       "      <td>1.902000</td>\n",
       "    </tr>\n",
       "    <tr>\n",
       "      <th>max</th>\n",
       "      <td>514.000000</td>\n",
       "      <td>2018.000000</td>\n",
       "      <td>8.637637e+06</td>\n",
       "      <td>24.324000</td>\n",
       "      <td>168.819000</td>\n",
       "      <td>3048.700000</td>\n",
       "      <td>2.588000</td>\n",
       "    </tr>\n",
       "  </tbody>\n",
       "</table>\n",
       "</div>"
      ],
      "text/plain": [
       "       utility_id_ferc1  report_year  fuel_qty_burned  fuel_mmbtu_per_unit  \\\n",
       "count       8438.000000  8438.000000     8.315000e+03          4912.000000   \n",
       "mean         115.970609  2004.655961     1.511918e+06            20.603478   \n",
       "std           72.995507     7.137471     1.542832e+06             2.562410   \n",
       "min            1.000000  1994.000000     3.000000e+00            17.204000   \n",
       "25%           51.000000  1998.000000     4.502050e+05            17.810000   \n",
       "50%          122.000000  2004.000000     9.779880e+05            20.715000   \n",
       "75%          175.000000  2011.000000     1.998981e+06            23.036500   \n",
       "max          514.000000  2018.000000     8.637637e+06            24.324000   \n",
       "\n",
       "       fuel_cost_per_unit_burned  fuel_cost_per_unit_delivered  \\\n",
       "count                8424.000000                   8431.000000   \n",
       "mean                   37.613729                     36.752172   \n",
       "std                    19.737585                     65.214306   \n",
       "min                     0.000000                    -40.725000   \n",
       "25%                    24.100750                     21.879000   \n",
       "50%                    33.440000                     31.570000   \n",
       "75%                    44.674750                     43.500000   \n",
       "max                   168.819000                   3048.700000   \n",
       "\n",
       "       fuel_cost_per_mmbtu  \n",
       "count          6476.000000  \n",
       "mean              1.612368  \n",
       "std               0.423085  \n",
       "min               0.986000  \n",
       "25%               1.256000  \n",
       "50%               1.545000  \n",
       "75%               1.902000  \n",
       "max               2.588000  "
      ]
     },
     "execution_count": 35,
     "metadata": {},
     "output_type": "execute_result"
    }
   ],
   "source": [
    "# This step was applied to the 'ton' and 'mmbtu' fuel units because of their value counts\n",
    "\n",
    "a = scale_coal[scale_coal['fuel_unit']=='ton']\n",
    "a.describe()"
   ]
  },
  {
   "cell_type": "code",
   "execution_count": 27,
   "metadata": {},
   "outputs": [],
   "source": [
    "# The rescaling is done on the columns that seemed to have outliers\n",
    "\n",
    "warnings.filterwarnings('ignore')\n",
    "\n",
    "ton = a[['fuel_qty_burned','fuel_mmbtu_per_unit','fuel_cost_per_unit_burned','fuel_cost_per_unit_delivered']]\n",
    "ton = ton[~(np.abs(ton - ton.mean()) > (1 * ton.std()))]\n",
    "      \n",
    "a.drop(['fuel_qty_burned','fuel_mmbtu_per_unit','fuel_cost_per_unit_burned',\\\n",
    "        'fuel_cost_per_unit_delivered'], axis=1, inplace=True)\n",
    "ton = pd.concat([a, ton], axis=1)"
   ]
  },
  {
   "cell_type": "code",
   "execution_count": 36,
   "metadata": {},
   "outputs": [],
   "source": [
    "# Replace the values with the new scaled values\n",
    "\n",
    "scale_coal[scale_coal['fuel_unit']=='ton'] = ton"
   ]
  },
  {
   "cell_type": "code",
   "execution_count": 30,
   "metadata": {
    "scrolled": true
   },
   "outputs": [
    {
     "data": {
      "text/html": [
       "<div>\n",
       "<style scoped>\n",
       "    .dataframe tbody tr th:only-of-type {\n",
       "        vertical-align: middle;\n",
       "    }\n",
       "\n",
       "    .dataframe tbody tr th {\n",
       "        vertical-align: top;\n",
       "    }\n",
       "\n",
       "    .dataframe thead th {\n",
       "        text-align: right;\n",
       "    }\n",
       "</style>\n",
       "<table border=\"1\" class=\"dataframe\">\n",
       "  <thead>\n",
       "    <tr style=\"text-align: right;\">\n",
       "      <th></th>\n",
       "      <th>record_id</th>\n",
       "      <th>utility_id_ferc1</th>\n",
       "      <th>report_year</th>\n",
       "      <th>plant_name_ferc1</th>\n",
       "      <th>fuel_unit</th>\n",
       "      <th>fuel_qty_burned</th>\n",
       "      <th>fuel_mmbtu_per_unit</th>\n",
       "      <th>fuel_cost_per_unit_burned</th>\n",
       "      <th>fuel_cost_per_unit_delivered</th>\n",
       "      <th>fuel_cost_per_mmbtu</th>\n",
       "    </tr>\n",
       "    <tr>\n",
       "      <th>fuel_type_code_pudl</th>\n",
       "      <th></th>\n",
       "      <th></th>\n",
       "      <th></th>\n",
       "      <th></th>\n",
       "      <th></th>\n",
       "      <th></th>\n",
       "      <th></th>\n",
       "      <th></th>\n",
       "      <th></th>\n",
       "      <th></th>\n",
       "    </tr>\n",
       "  </thead>\n",
       "  <tbody>\n",
       "    <tr>\n",
       "      <th>coal</th>\n",
       "      <td>f1_fuel_1994_12_1_0_7</td>\n",
       "      <td>1</td>\n",
       "      <td>1994</td>\n",
       "      <td>rockport</td>\n",
       "      <td>ton</td>\n",
       "      <td>5377489.0</td>\n",
       "      <td>NaN</td>\n",
       "      <td>18.59</td>\n",
       "      <td>18.53</td>\n",
       "      <td>1.121</td>\n",
       "    </tr>\n",
       "    <tr>\n",
       "      <th>coal</th>\n",
       "      <td>f1_fuel_1994_12_1_0_10</td>\n",
       "      <td>1</td>\n",
       "      <td>1994</td>\n",
       "      <td>rockport total plant</td>\n",
       "      <td>ton</td>\n",
       "      <td>NaN</td>\n",
       "      <td>NaN</td>\n",
       "      <td>18.58</td>\n",
       "      <td>18.53</td>\n",
       "      <td>1.120</td>\n",
       "    </tr>\n",
       "    <tr>\n",
       "      <th>coal</th>\n",
       "      <td>f1_fuel_1994_12_2_0_1</td>\n",
       "      <td>2</td>\n",
       "      <td>1994</td>\n",
       "      <td>gorgas</td>\n",
       "      <td>ton</td>\n",
       "      <td>2978683.0</td>\n",
       "      <td>24.130</td>\n",
       "      <td>39.72</td>\n",
       "      <td>38.12</td>\n",
       "      <td>1.650</td>\n",
       "    </tr>\n",
       "    <tr>\n",
       "      <th>coal</th>\n",
       "      <td>f1_fuel_1994_12_2_0_7</td>\n",
       "      <td>2</td>\n",
       "      <td>1994</td>\n",
       "      <td>barry</td>\n",
       "      <td>ton</td>\n",
       "      <td>3739484.0</td>\n",
       "      <td>23.950</td>\n",
       "      <td>47.21</td>\n",
       "      <td>45.99</td>\n",
       "      <td>1.970</td>\n",
       "    </tr>\n",
       "    <tr>\n",
       "      <th>coal</th>\n",
       "      <td>f1_fuel_1994_12_2_0_13</td>\n",
       "      <td>2</td>\n",
       "      <td>1994</td>\n",
       "      <td>e. c. gaston-unit 5</td>\n",
       "      <td>ton</td>\n",
       "      <td>2124933.0</td>\n",
       "      <td>23.922</td>\n",
       "      <td>44.24</td>\n",
       "      <td>43.25</td>\n",
       "      <td>1.850</td>\n",
       "    </tr>\n",
       "  </tbody>\n",
       "</table>\n",
       "</div>"
      ],
      "text/plain": [
       "                                  record_id  utility_id_ferc1  report_year  \\\n",
       "fuel_type_code_pudl                                                          \n",
       "coal                  f1_fuel_1994_12_1_0_7                 1         1994   \n",
       "coal                 f1_fuel_1994_12_1_0_10                 1         1994   \n",
       "coal                  f1_fuel_1994_12_2_0_1                 2         1994   \n",
       "coal                  f1_fuel_1994_12_2_0_7                 2         1994   \n",
       "coal                 f1_fuel_1994_12_2_0_13                 2         1994   \n",
       "\n",
       "                         plant_name_ferc1 fuel_unit  fuel_qty_burned  \\\n",
       "fuel_type_code_pudl                                                    \n",
       "coal                             rockport       ton        5377489.0   \n",
       "coal                 rockport total plant       ton              NaN   \n",
       "coal                               gorgas       ton        2978683.0   \n",
       "coal                                barry       ton        3739484.0   \n",
       "coal                  e. c. gaston-unit 5       ton        2124933.0   \n",
       "\n",
       "                     fuel_mmbtu_per_unit  fuel_cost_per_unit_burned  \\\n",
       "fuel_type_code_pudl                                                   \n",
       "coal                                 NaN                      18.59   \n",
       "coal                                 NaN                      18.58   \n",
       "coal                              24.130                      39.72   \n",
       "coal                              23.950                      47.21   \n",
       "coal                              23.922                      44.24   \n",
       "\n",
       "                     fuel_cost_per_unit_delivered  fuel_cost_per_mmbtu  \n",
       "fuel_type_code_pudl                                                     \n",
       "coal                                        18.53                1.121  \n",
       "coal                                        18.53                1.120  \n",
       "coal                                        38.12                1.650  \n",
       "coal                                        45.99                1.970  \n",
       "coal                                        43.25                1.850  "
      ]
     },
     "execution_count": 30,
     "metadata": {},
     "output_type": "execute_result"
    }
   ],
   "source": [
    "scale_coal.head()"
   ]
  },
  {
   "cell_type": "code",
   "execution_count": 42,
   "metadata": {},
   "outputs": [
    {
     "data": {
      "text/plain": [
       "fuel_unit\n",
       "bbl          2\n",
       "mcf      11333\n",
       "mmbtu       94\n",
       "ton          4\n",
       "Name: fuel_unit, dtype: int64"
      ]
     },
     "execution_count": 42,
     "metadata": {},
     "output_type": "execute_result"
    }
   ],
   "source": [
    "# GAS FUEL TYPE\n",
    "\n",
    "scale_gas = scale.loc['gas']\n",
    "scale_gas.groupby('fuel_unit')['fuel_unit'].count()"
   ]
  },
  {
   "cell_type": "code",
   "execution_count": 45,
   "metadata": {},
   "outputs": [
    {
     "data": {
      "text/html": [
       "<div>\n",
       "<style scoped>\n",
       "    .dataframe tbody tr th:only-of-type {\n",
       "        vertical-align: middle;\n",
       "    }\n",
       "\n",
       "    .dataframe tbody tr th {\n",
       "        vertical-align: top;\n",
       "    }\n",
       "\n",
       "    .dataframe thead th {\n",
       "        text-align: right;\n",
       "    }\n",
       "</style>\n",
       "<table border=\"1\" class=\"dataframe\">\n",
       "  <thead>\n",
       "    <tr style=\"text-align: right;\">\n",
       "      <th></th>\n",
       "      <th>utility_id_ferc1</th>\n",
       "      <th>report_year</th>\n",
       "      <th>fuel_qty_burned</th>\n",
       "      <th>fuel_mmbtu_per_unit</th>\n",
       "      <th>fuel_cost_per_unit_burned</th>\n",
       "      <th>fuel_cost_per_unit_delivered</th>\n",
       "      <th>fuel_cost_per_mmbtu</th>\n",
       "    </tr>\n",
       "  </thead>\n",
       "  <tbody>\n",
       "    <tr>\n",
       "      <th>count</th>\n",
       "      <td>94.000000</td>\n",
       "      <td>94.000000</td>\n",
       "      <td>9.400000e+01</td>\n",
       "      <td>94.000000</td>\n",
       "      <td>94.000000</td>\n",
       "      <td>94.000000</td>\n",
       "      <td>94.000000</td>\n",
       "    </tr>\n",
       "    <tr>\n",
       "      <th>mean</th>\n",
       "      <td>129.531915</td>\n",
       "      <td>2009.042553</td>\n",
       "      <td>1.488881e+06</td>\n",
       "      <td>1.002436</td>\n",
       "      <td>115.446628</td>\n",
       "      <td>114.924947</td>\n",
       "      <td>3.877223</td>\n",
       "    </tr>\n",
       "    <tr>\n",
       "      <th>std</th>\n",
       "      <td>61.744827</td>\n",
       "      <td>8.092097</td>\n",
       "      <td>3.136670e+06</td>\n",
       "      <td>0.008905</td>\n",
       "      <td>1081.561178</td>\n",
       "      <td>1081.616174</td>\n",
       "      <td>1.965520</td>\n",
       "    </tr>\n",
       "    <tr>\n",
       "      <th>min</th>\n",
       "      <td>58.000000</td>\n",
       "      <td>1994.000000</td>\n",
       "      <td>2.630000e+02</td>\n",
       "      <td>1.000000</td>\n",
       "      <td>1.550000</td>\n",
       "      <td>0.000000</td>\n",
       "      <td>1.705000</td>\n",
       "    </tr>\n",
       "    <tr>\n",
       "      <th>25%</th>\n",
       "      <td>122.000000</td>\n",
       "      <td>2001.000000</td>\n",
       "      <td>7.327000e+03</td>\n",
       "      <td>1.000000</td>\n",
       "      <td>2.615000</td>\n",
       "      <td>2.234750</td>\n",
       "      <td>2.622500</td>\n",
       "    </tr>\n",
       "    <tr>\n",
       "      <th>50%</th>\n",
       "      <td>122.000000</td>\n",
       "      <td>2012.000000</td>\n",
       "      <td>3.301800e+04</td>\n",
       "      <td>1.000000</td>\n",
       "      <td>3.285000</td>\n",
       "      <td>3.025000</td>\n",
       "      <td>3.265500</td>\n",
       "    </tr>\n",
       "    <tr>\n",
       "      <th>75%</th>\n",
       "      <td>122.000000</td>\n",
       "      <td>2016.000000</td>\n",
       "      <td>1.741326e+06</td>\n",
       "      <td>1.000000</td>\n",
       "      <td>4.655750</td>\n",
       "      <td>4.234250</td>\n",
       "      <td>4.292500</td>\n",
       "    </tr>\n",
       "    <tr>\n",
       "      <th>max</th>\n",
       "      <td>294.000000</td>\n",
       "      <td>2018.000000</td>\n",
       "      <td>1.596252e+07</td>\n",
       "      <td>1.052000</td>\n",
       "      <td>10490.000000</td>\n",
       "      <td>10490.000000</td>\n",
       "      <td>10.864000</td>\n",
       "    </tr>\n",
       "  </tbody>\n",
       "</table>\n",
       "</div>"
      ],
      "text/plain": [
       "       utility_id_ferc1  report_year  fuel_qty_burned  fuel_mmbtu_per_unit  \\\n",
       "count         94.000000    94.000000     9.400000e+01            94.000000   \n",
       "mean         129.531915  2009.042553     1.488881e+06             1.002436   \n",
       "std           61.744827     8.092097     3.136670e+06             0.008905   \n",
       "min           58.000000  1994.000000     2.630000e+02             1.000000   \n",
       "25%          122.000000  2001.000000     7.327000e+03             1.000000   \n",
       "50%          122.000000  2012.000000     3.301800e+04             1.000000   \n",
       "75%          122.000000  2016.000000     1.741326e+06             1.000000   \n",
       "max          294.000000  2018.000000     1.596252e+07             1.052000   \n",
       "\n",
       "       fuel_cost_per_unit_burned  fuel_cost_per_unit_delivered  \\\n",
       "count                  94.000000                     94.000000   \n",
       "mean                  115.446628                    114.924947   \n",
       "std                  1081.561178                   1081.616174   \n",
       "min                     1.550000                      0.000000   \n",
       "25%                     2.615000                      2.234750   \n",
       "50%                     3.285000                      3.025000   \n",
       "75%                     4.655750                      4.234250   \n",
       "max                 10490.000000                  10490.000000   \n",
       "\n",
       "       fuel_cost_per_mmbtu  \n",
       "count            94.000000  \n",
       "mean              3.877223  \n",
       "std               1.965520  \n",
       "min               1.705000  \n",
       "25%               2.622500  \n",
       "50%               3.265500  \n",
       "75%               4.292500  \n",
       "max              10.864000  "
      ]
     },
     "execution_count": 45,
     "metadata": {},
     "output_type": "execute_result"
    }
   ],
   "source": [
    "# This step was applied to 'mmbtu' and 'mcf'\n",
    "\n",
    "a = scale_gas[scale_gas['fuel_unit']=='mmbtu']\n",
    "a.describe()"
   ]
  },
  {
   "cell_type": "code",
   "execution_count": 46,
   "metadata": {},
   "outputs": [],
   "source": [
    "mmbtu = a[['fuel_qty_burned','fuel_cost_per_unit_burned','fuel_cost_per_unit_delivered']]\n",
    "mmbtu = mmbtu[~(np.abs(mmbtu - mmbtu.mean()) > (1 * mmbtu.std()))]\n",
    "      \n",
    "a.drop(['fuel_qty_burned','fuel_cost_per_unit_burned','fuel_cost_per_unit_delivered'], axis=1, inplace=True)\n",
    "mmbtu = pd.concat([a, mmbtu], axis=1)\n",
    "\n",
    "# mcf = a[['fuel_qty_burned','fuel_cost_per_unit_burned']]\n",
    "# mcf = mcf[~(np.abs(mcf - mcf.mean()) > (1 * mcf.std()))]\n",
    "      \n",
    "# a.drop(['fuel_qty_burned','fuel_cost_per_unit_burned'], axis=1, inplace=True)\n",
    "# mcf = pd.concat([a, mcf], axis=1)"
   ]
  },
  {
   "cell_type": "code",
   "execution_count": 47,
   "metadata": {},
   "outputs": [],
   "source": [
    "scale_gas[scale_gas['fuel_unit']=='mmbtu'] = mmbtu\n",
    "scale_gas[scale_gas['fuel_unit']=='mcf'] = mcf"
   ]
  },
  {
   "cell_type": "code",
   "execution_count": null,
   "metadata": {},
   "outputs": [],
   "source": [
    "scale_gas.head()"
   ]
  },
  {
   "cell_type": "code",
   "execution_count": 48,
   "metadata": {},
   "outputs": [
    {
     "data": {
      "text/plain": [
       "fuel_unit\n",
       "gramsU    464\n",
       "kgU       110\n",
       "mmbtu      34\n",
       "mwdth      95\n",
       "mwhth     100\n",
       "Name: fuel_unit, dtype: int64"
      ]
     },
     "execution_count": 48,
     "metadata": {},
     "output_type": "execute_result"
    }
   ],
   "source": [
    "# NUCLEAR DATA TYPE\n",
    "\n",
    "scale_nuclear = scale.loc['nuclear']\n",
    "\n",
    "scale_nuclear.groupby('fuel_unit')['fuel_unit'].count()"
   ]
  },
  {
   "cell_type": "code",
   "execution_count": 59,
   "metadata": {},
   "outputs": [
    {
     "data": {
      "text/html": [
       "<div>\n",
       "<style scoped>\n",
       "    .dataframe tbody tr th:only-of-type {\n",
       "        vertical-align: middle;\n",
       "    }\n",
       "\n",
       "    .dataframe tbody tr th {\n",
       "        vertical-align: top;\n",
       "    }\n",
       "\n",
       "    .dataframe thead th {\n",
       "        text-align: right;\n",
       "    }\n",
       "</style>\n",
       "<table border=\"1\" class=\"dataframe\">\n",
       "  <thead>\n",
       "    <tr style=\"text-align: right;\">\n",
       "      <th></th>\n",
       "      <th>utility_id_ferc1</th>\n",
       "      <th>report_year</th>\n",
       "      <th>fuel_qty_burned</th>\n",
       "      <th>fuel_mmbtu_per_unit</th>\n",
       "      <th>fuel_cost_per_unit_burned</th>\n",
       "      <th>fuel_cost_per_unit_delivered</th>\n",
       "      <th>fuel_cost_per_mmbtu</th>\n",
       "    </tr>\n",
       "  </thead>\n",
       "  <tbody>\n",
       "    <tr>\n",
       "      <th>count</th>\n",
       "      <td>100.000000</td>\n",
       "      <td>100.000000</td>\n",
       "      <td>1.000000e+02</td>\n",
       "      <td>100.000000</td>\n",
       "      <td>100.000000</td>\n",
       "      <td>100.0</td>\n",
       "      <td>100.000000</td>\n",
       "    </tr>\n",
       "    <tr>\n",
       "      <th>mean</th>\n",
       "      <td>111.800000</td>\n",
       "      <td>2006.400000</td>\n",
       "      <td>2.892479e+07</td>\n",
       "      <td>6.794154</td>\n",
       "      <td>5.287160</td>\n",
       "      <td>0.0</td>\n",
       "      <td>1.529200</td>\n",
       "    </tr>\n",
       "    <tr>\n",
       "      <th>std</th>\n",
       "      <td>116.334592</td>\n",
       "      <td>7.178813</td>\n",
       "      <td>9.114356e+06</td>\n",
       "      <td>33.784562</td>\n",
       "      <td>31.789386</td>\n",
       "      <td>0.0</td>\n",
       "      <td>9.317731</td>\n",
       "    </tr>\n",
       "    <tr>\n",
       "      <th>min</th>\n",
       "      <td>8.000000</td>\n",
       "      <td>1994.000000</td>\n",
       "      <td>2.508944e+06</td>\n",
       "      <td>3.124600</td>\n",
       "      <td>1.319000</td>\n",
       "      <td>0.0</td>\n",
       "      <td>0.045000</td>\n",
       "    </tr>\n",
       "    <tr>\n",
       "      <th>25%</th>\n",
       "      <td>63.000000</td>\n",
       "      <td>2000.000000</td>\n",
       "      <td>2.385735e+07</td>\n",
       "      <td>3.412600</td>\n",
       "      <td>1.652250</td>\n",
       "      <td>0.0</td>\n",
       "      <td>0.479500</td>\n",
       "    </tr>\n",
       "    <tr>\n",
       "      <th>50%</th>\n",
       "      <td>87.000000</td>\n",
       "      <td>2006.500000</td>\n",
       "      <td>2.756158e+07</td>\n",
       "      <td>3.412600</td>\n",
       "      <td>1.878000</td>\n",
       "      <td>0.0</td>\n",
       "      <td>0.540000</td>\n",
       "    </tr>\n",
       "    <tr>\n",
       "      <th>75%</th>\n",
       "      <td>169.000000</td>\n",
       "      <td>2013.000000</td>\n",
       "      <td>3.253201e+07</td>\n",
       "      <td>3.412600</td>\n",
       "      <td>2.599500</td>\n",
       "      <td>0.0</td>\n",
       "      <td>0.756500</td>\n",
       "    </tr>\n",
       "    <tr>\n",
       "      <th>max</th>\n",
       "      <td>454.000000</td>\n",
       "      <td>2018.000000</td>\n",
       "      <td>4.683256e+07</td>\n",
       "      <td>341.260000</td>\n",
       "      <td>319.950000</td>\n",
       "      <td>0.0</td>\n",
       "      <td>93.756000</td>\n",
       "    </tr>\n",
       "  </tbody>\n",
       "</table>\n",
       "</div>"
      ],
      "text/plain": [
       "       utility_id_ferc1  report_year  fuel_qty_burned  fuel_mmbtu_per_unit  \\\n",
       "count        100.000000   100.000000     1.000000e+02           100.000000   \n",
       "mean         111.800000  2006.400000     2.892479e+07             6.794154   \n",
       "std          116.334592     7.178813     9.114356e+06            33.784562   \n",
       "min            8.000000  1994.000000     2.508944e+06             3.124600   \n",
       "25%           63.000000  2000.000000     2.385735e+07             3.412600   \n",
       "50%           87.000000  2006.500000     2.756158e+07             3.412600   \n",
       "75%          169.000000  2013.000000     3.253201e+07             3.412600   \n",
       "max          454.000000  2018.000000     4.683256e+07           341.260000   \n",
       "\n",
       "       fuel_cost_per_unit_burned  fuel_cost_per_unit_delivered  \\\n",
       "count                 100.000000                         100.0   \n",
       "mean                    5.287160                           0.0   \n",
       "std                    31.789386                           0.0   \n",
       "min                     1.319000                           0.0   \n",
       "25%                     1.652250                           0.0   \n",
       "50%                     1.878000                           0.0   \n",
       "75%                     2.599500                           0.0   \n",
       "max                   319.950000                           0.0   \n",
       "\n",
       "       fuel_cost_per_mmbtu  \n",
       "count           100.000000  \n",
       "mean              1.529200  \n",
       "std               9.317731  \n",
       "min               0.045000  \n",
       "25%               0.479500  \n",
       "50%               0.540000  \n",
       "75%               0.756500  \n",
       "max              93.756000  "
      ]
     },
     "execution_count": 59,
     "metadata": {},
     "output_type": "execute_result"
    }
   ],
   "source": [
    "# This step was applied to all the units found in nuclear because it didn't seem to have a particular measuring unit.\n",
    "\n",
    "a = scale_nuclear[scale_nuclear['fuel_unit']=='mwhth']\n",
    "a.describe()"
   ]
  },
  {
   "cell_type": "code",
   "execution_count": 60,
   "metadata": {},
   "outputs": [],
   "source": [
    "mwhth = a[['fuel_mmbtu_per_unit','fuel_cost_per_unit_burned','fuel_cost_per_mmbtu']]\n",
    "mwhth = mwhth[~(np.abs(mwhth - mwhth.mean()) > (1 * mwhth.std()))]\n",
    "      \n",
    "a.drop(['fuel_mmbtu_per_unit','fuel_cost_per_unit_burned','fuel_cost_per_mmbtu'], axis=1, inplace=True)\n",
    "mwhth = pd.concat([a, mwhth], axis=1)\n"
   ]
  },
  {
   "cell_type": "code",
   "execution_count": 61,
   "metadata": {},
   "outputs": [],
   "source": [
    "# grams, kg, mmbtu, mwdth, mwhth \n",
    "scale_nuclear[scale_nuclear['fuel_unit']=='gramsU'] = grams\n",
    "scale_nuclear[scale_nuclear['fuel_unit']=='kgU'] = kg\n",
    "scale_nuclear[scale_nuclear['fuel_unit']=='mmbtu'] = mmbtu\n",
    "scale_nuclear[scale_nuclear['fuel_unit']=='mwdth'] = mwdth\n",
    "scale_nuclear[scale_nuclear['fuel_unit']=='mwhth'] = mwhth\n"
   ]
  },
  {
   "cell_type": "code",
   "execution_count": null,
   "metadata": {},
   "outputs": [],
   "source": [
    "scale_nuclear.head()"
   ]
  },
  {
   "cell_type": "code",
   "execution_count": 62,
   "metadata": {},
   "outputs": [
    {
     "data": {
      "text/plain": [
       "fuel_unit\n",
       "bbl    7952\n",
       "gal      81\n",
       "mcf       7\n",
       "ton       3\n",
       "Name: fuel_unit, dtype: int64"
      ]
     },
     "execution_count": 62,
     "metadata": {},
     "output_type": "execute_result"
    }
   ],
   "source": [
    "# OIL DATA TYPE\n",
    "\n",
    "scale_oil = scale.loc['oil']\n",
    "scale_oil.groupby('fuel_unit')['fuel_unit'].count()"
   ]
  },
  {
   "cell_type": "code",
   "execution_count": 66,
   "metadata": {},
   "outputs": [
    {
     "data": {
      "text/html": [
       "<div>\n",
       "<style scoped>\n",
       "    .dataframe tbody tr th:only-of-type {\n",
       "        vertical-align: middle;\n",
       "    }\n",
       "\n",
       "    .dataframe tbody tr th {\n",
       "        vertical-align: top;\n",
       "    }\n",
       "\n",
       "    .dataframe thead th {\n",
       "        text-align: right;\n",
       "    }\n",
       "</style>\n",
       "<table border=\"1\" class=\"dataframe\">\n",
       "  <thead>\n",
       "    <tr style=\"text-align: right;\">\n",
       "      <th></th>\n",
       "      <th>utility_id_ferc1</th>\n",
       "      <th>report_year</th>\n",
       "      <th>fuel_qty_burned</th>\n",
       "      <th>fuel_mmbtu_per_unit</th>\n",
       "      <th>fuel_cost_per_unit_burned</th>\n",
       "      <th>fuel_cost_per_unit_delivered</th>\n",
       "      <th>fuel_cost_per_mmbtu</th>\n",
       "    </tr>\n",
       "  </thead>\n",
       "  <tbody>\n",
       "    <tr>\n",
       "      <th>count</th>\n",
       "      <td>7952.000000</td>\n",
       "      <td>7952.000000</td>\n",
       "      <td>7.952000e+03</td>\n",
       "      <td>7952.000000</td>\n",
       "      <td>7952.000000</td>\n",
       "      <td>7952.000000</td>\n",
       "      <td>7952.000000</td>\n",
       "    </tr>\n",
       "    <tr>\n",
       "      <th>mean</th>\n",
       "      <td>113.210387</td>\n",
       "      <td>2007.183350</td>\n",
       "      <td>5.864813e+04</td>\n",
       "      <td>5.815249</td>\n",
       "      <td>170.895524</td>\n",
       "      <td>317.959943</td>\n",
       "      <td>12.701283</td>\n",
       "    </tr>\n",
       "    <tr>\n",
       "      <th>std</th>\n",
       "      <td>76.170939</td>\n",
       "      <td>6.148261</td>\n",
       "      <td>6.506814e+05</td>\n",
       "      <td>0.205505</td>\n",
       "      <td>2422.918898</td>\n",
       "      <td>9078.919965</td>\n",
       "      <td>6.216969</td>\n",
       "    </tr>\n",
       "    <tr>\n",
       "      <th>min</th>\n",
       "      <td>1.000000</td>\n",
       "      <td>1994.000000</td>\n",
       "      <td>1.000000e+00</td>\n",
       "      <td>3.103044</td>\n",
       "      <td>0.000000</td>\n",
       "      <td>-874.937000</td>\n",
       "      <td>5.000000</td>\n",
       "    </tr>\n",
       "    <tr>\n",
       "      <th>25%</th>\n",
       "      <td>45.000000</td>\n",
       "      <td>2003.000000</td>\n",
       "      <td>1.139500e+03</td>\n",
       "      <td>5.762684</td>\n",
       "      <td>37.961500</td>\n",
       "      <td>32.655250</td>\n",
       "      <td>6.658000</td>\n",
       "    </tr>\n",
       "    <tr>\n",
       "      <th>50%</th>\n",
       "      <td>120.000000</td>\n",
       "      <td>2007.000000</td>\n",
       "      <td>4.820500e+03</td>\n",
       "      <td>5.813262</td>\n",
       "      <td>69.725500</td>\n",
       "      <td>59.360000</td>\n",
       "      <td>12.163500</td>\n",
       "    </tr>\n",
       "    <tr>\n",
       "      <th>75%</th>\n",
       "      <td>173.000000</td>\n",
       "      <td>2012.000000</td>\n",
       "      <td>1.738475e+04</td>\n",
       "      <td>5.880000</td>\n",
       "      <td>99.114250</td>\n",
       "      <td>96.034500</td>\n",
       "      <td>17.207750</td>\n",
       "    </tr>\n",
       "    <tr>\n",
       "      <th>max</th>\n",
       "      <td>514.000000</td>\n",
       "      <td>2018.000000</td>\n",
       "      <td>4.646015e+07</td>\n",
       "      <td>6.812190</td>\n",
       "      <td>139358.000000</td>\n",
       "      <td>730166.000000</td>\n",
       "      <td>33.000000</td>\n",
       "    </tr>\n",
       "  </tbody>\n",
       "</table>\n",
       "</div>"
      ],
      "text/plain": [
       "       utility_id_ferc1  report_year  fuel_qty_burned  fuel_mmbtu_per_unit  \\\n",
       "count       7952.000000  7952.000000     7.952000e+03          7952.000000   \n",
       "mean         113.210387  2007.183350     5.864813e+04             5.815249   \n",
       "std           76.170939     6.148261     6.506814e+05             0.205505   \n",
       "min            1.000000  1994.000000     1.000000e+00             3.103044   \n",
       "25%           45.000000  2003.000000     1.139500e+03             5.762684   \n",
       "50%          120.000000  2007.000000     4.820500e+03             5.813262   \n",
       "75%          173.000000  2012.000000     1.738475e+04             5.880000   \n",
       "max          514.000000  2018.000000     4.646015e+07             6.812190   \n",
       "\n",
       "       fuel_cost_per_unit_burned  fuel_cost_per_unit_delivered  \\\n",
       "count                7952.000000                   7952.000000   \n",
       "mean                  170.895524                    317.959943   \n",
       "std                  2422.918898                   9078.919965   \n",
       "min                     0.000000                   -874.937000   \n",
       "25%                    37.961500                     32.655250   \n",
       "50%                    69.725500                     59.360000   \n",
       "75%                    99.114250                     96.034500   \n",
       "max                139358.000000                 730166.000000   \n",
       "\n",
       "       fuel_cost_per_mmbtu  \n",
       "count          7952.000000  \n",
       "mean             12.701283  \n",
       "std               6.216969  \n",
       "min               5.000000  \n",
       "25%               6.658000  \n",
       "50%              12.163500  \n",
       "75%              17.207750  \n",
       "max              33.000000  "
      ]
     },
     "execution_count": 66,
     "metadata": {},
     "output_type": "execute_result"
    }
   ],
   "source": [
    "# This step was applied to 'bbl' and 'gal'\n",
    "\n",
    "a = scale_oil[scale_oil['fuel_unit']=='bbl']\n",
    "a.describe()"
   ]
  },
  {
   "cell_type": "code",
   "execution_count": 67,
   "metadata": {},
   "outputs": [],
   "source": [
    "bbl = a[['fuel_qty_burned','fuel_cost_per_unit_burned', 'fuel_cost_per_unit_delivered']]\n",
    "bbl = bbl[~(np.abs(bbl - bbl.mean()) > (1 * bbl.std()))]\n",
    "      \n",
    "a.drop(['fuel_qty_burned','fuel_cost_per_unit_burned', 'fuel_cost_per_unit_delivered'], axis=1, inplace=True)\n",
    "bbl = pd.concat([a, bbl], axis=1)"
   ]
  },
  {
   "cell_type": "code",
   "execution_count": 68,
   "metadata": {},
   "outputs": [],
   "source": [
    "scale_oil[scale_oil['fuel_unit']=='gal'] = gal\n",
    "scale_oil[scale_oil['fuel_unit']=='bbl'] = bbl"
   ]
  },
  {
   "cell_type": "code",
   "execution_count": null,
   "metadata": {},
   "outputs": [],
   "source": [
    "scale_oil.head()"
   ]
  },
  {
   "cell_type": "code",
   "execution_count": 69,
   "metadata": {},
   "outputs": [
    {
     "data": {
      "text/plain": [
       "fuel_unit\n",
       "bbl      1\n",
       "ton    436\n",
       "Name: fuel_unit, dtype: int64"
      ]
     },
     "execution_count": 69,
     "metadata": {},
     "output_type": "execute_result"
    }
   ],
   "source": [
    "# WASTE DATA TYPE\n",
    "\n",
    "scale_waste = scale.loc['waste']\n",
    "scale_waste.groupby('fuel_unit')['fuel_unit'].count()"
   ]
  },
  {
   "cell_type": "code",
   "execution_count": 70,
   "metadata": {
    "scrolled": true
   },
   "outputs": [
    {
     "data": {
      "text/html": [
       "<div>\n",
       "<style scoped>\n",
       "    .dataframe tbody tr th:only-of-type {\n",
       "        vertical-align: middle;\n",
       "    }\n",
       "\n",
       "    .dataframe tbody tr th {\n",
       "        vertical-align: top;\n",
       "    }\n",
       "\n",
       "    .dataframe thead th {\n",
       "        text-align: right;\n",
       "    }\n",
       "</style>\n",
       "<table border=\"1\" class=\"dataframe\">\n",
       "  <thead>\n",
       "    <tr style=\"text-align: right;\">\n",
       "      <th></th>\n",
       "      <th>utility_id_ferc1</th>\n",
       "      <th>report_year</th>\n",
       "      <th>fuel_qty_burned</th>\n",
       "      <th>fuel_mmbtu_per_unit</th>\n",
       "      <th>fuel_cost_per_unit_burned</th>\n",
       "      <th>fuel_cost_per_unit_delivered</th>\n",
       "      <th>fuel_cost_per_mmbtu</th>\n",
       "    </tr>\n",
       "  </thead>\n",
       "  <tbody>\n",
       "    <tr>\n",
       "      <th>count</th>\n",
       "      <td>436.000000</td>\n",
       "      <td>436.000000</td>\n",
       "      <td>436.000000</td>\n",
       "      <td>436.000000</td>\n",
       "      <td>436.000000</td>\n",
       "      <td>436.000000</td>\n",
       "      <td>436.000000</td>\n",
       "    </tr>\n",
       "    <tr>\n",
       "      <th>mean</th>\n",
       "      <td>155.055046</td>\n",
       "      <td>2005.763761</td>\n",
       "      <td>118393.091743</td>\n",
       "      <td>0.343774</td>\n",
       "      <td>19.683858</td>\n",
       "      <td>18.576528</td>\n",
       "      <td>832.138156</td>\n",
       "    </tr>\n",
       "    <tr>\n",
       "      <th>std</th>\n",
       "      <td>52.816026</td>\n",
       "      <td>7.426369</td>\n",
       "      <td>178453.632325</td>\n",
       "      <td>1.655533</td>\n",
       "      <td>30.117690</td>\n",
       "      <td>28.084739</td>\n",
       "      <td>17205.979577</td>\n",
       "    </tr>\n",
       "    <tr>\n",
       "      <th>min</th>\n",
       "      <td>9.000000</td>\n",
       "      <td>1994.000000</td>\n",
       "      <td>7.000000</td>\n",
       "      <td>0.000009</td>\n",
       "      <td>-276.080000</td>\n",
       "      <td>-174.670000</td>\n",
       "      <td>-41.501000</td>\n",
       "    </tr>\n",
       "    <tr>\n",
       "      <th>25%</th>\n",
       "      <td>121.000000</td>\n",
       "      <td>1999.000000</td>\n",
       "      <td>3110.750000</td>\n",
       "      <td>0.005503</td>\n",
       "      <td>11.069750</td>\n",
       "      <td>8.178000</td>\n",
       "      <td>0.699500</td>\n",
       "    </tr>\n",
       "    <tr>\n",
       "      <th>50%</th>\n",
       "      <td>186.000000</td>\n",
       "      <td>2006.000000</td>\n",
       "      <td>16073.000000</td>\n",
       "      <td>0.012309</td>\n",
       "      <td>22.918500</td>\n",
       "      <td>22.023000</td>\n",
       "      <td>1.147000</td>\n",
       "    </tr>\n",
       "    <tr>\n",
       "      <th>75%</th>\n",
       "      <td>194.000000</td>\n",
       "      <td>2012.000000</td>\n",
       "      <td>188619.000000</td>\n",
       "      <td>0.015000</td>\n",
       "      <td>32.926250</td>\n",
       "      <td>31.670000</td>\n",
       "      <td>2.233000</td>\n",
       "    </tr>\n",
       "    <tr>\n",
       "      <th>max</th>\n",
       "      <td>432.000000</td>\n",
       "      <td>2018.000000</td>\n",
       "      <td>799499.000000</td>\n",
       "      <td>8.700000</td>\n",
       "      <td>132.291000</td>\n",
       "      <td>121.020000</td>\n",
       "      <td>359278.000000</td>\n",
       "    </tr>\n",
       "  </tbody>\n",
       "</table>\n",
       "</div>"
      ],
      "text/plain": [
       "       utility_id_ferc1  report_year  fuel_qty_burned  fuel_mmbtu_per_unit  \\\n",
       "count        436.000000   436.000000       436.000000           436.000000   \n",
       "mean         155.055046  2005.763761    118393.091743             0.343774   \n",
       "std           52.816026     7.426369    178453.632325             1.655533   \n",
       "min            9.000000  1994.000000         7.000000             0.000009   \n",
       "25%          121.000000  1999.000000      3110.750000             0.005503   \n",
       "50%          186.000000  2006.000000     16073.000000             0.012309   \n",
       "75%          194.000000  2012.000000    188619.000000             0.015000   \n",
       "max          432.000000  2018.000000    799499.000000             8.700000   \n",
       "\n",
       "       fuel_cost_per_unit_burned  fuel_cost_per_unit_delivered  \\\n",
       "count                 436.000000                    436.000000   \n",
       "mean                   19.683858                     18.576528   \n",
       "std                    30.117690                     28.084739   \n",
       "min                  -276.080000                   -174.670000   \n",
       "25%                    11.069750                      8.178000   \n",
       "50%                    22.918500                     22.023000   \n",
       "75%                    32.926250                     31.670000   \n",
       "max                   132.291000                    121.020000   \n",
       "\n",
       "       fuel_cost_per_mmbtu  \n",
       "count           436.000000  \n",
       "mean            832.138156  \n",
       "std           17205.979577  \n",
       "min             -41.501000  \n",
       "25%               0.699500  \n",
       "50%               1.147000  \n",
       "75%               2.233000  \n",
       "max          359278.000000  "
      ]
     },
     "execution_count": 70,
     "metadata": {},
     "output_type": "execute_result"
    }
   ],
   "source": [
    "a = scale_waste[scale_waste['fuel_unit']=='ton']\n",
    "a.describe()"
   ]
  },
  {
   "cell_type": "code",
   "execution_count": 71,
   "metadata": {},
   "outputs": [],
   "source": [
    "waste_ton = a[['fuel_qty_burned','fuel_cost_per_unit_burned','fuel_cost_per_unit_delivered']]\n",
    "waste_ton = waste_ton[~(np.abs(waste_ton - waste_ton.mean()) > (1 * waste_ton.std()))]\n",
    "\n",
    "to_drop = ['fuel_qty_burned','fuel_cost_per_unit_burned','fuel_cost_per_unit_delivered']\n",
    "a.drop(to_drop, axis=1, inplace=True)\n",
    "waste_ton = pd.concat([a, waste_ton], axis=1)\n"
   ]
  },
  {
   "cell_type": "code",
   "execution_count": 72,
   "metadata": {},
   "outputs": [],
   "source": [
    "scale_waste[scale_waste['fuel_unit']=='ton'] = waste_ton"
   ]
  },
  {
   "cell_type": "code",
   "execution_count": null,
   "metadata": {
    "scrolled": true
   },
   "outputs": [],
   "source": [
    "scale_waste.head()"
   ]
  },
  {
   "cell_type": "markdown",
   "metadata": {},
   "source": [
    "The rows containing `other` in the `fuel_type_code_pudl` column will be dropped because:\n",
    "- The mean and median values are too far apart\n",
    "- Also, the  fuel units are similar to that of the previous five fuel types, so we will rather draw insights from them\n",
    "- Lastly the sample size is very small"
   ]
  },
  {
   "cell_type": "code",
   "execution_count": 73,
   "metadata": {},
   "outputs": [
    {
     "data": {
      "text/plain": [
       "Index(['coal', 'gas', 'nuclear', 'oil', 'waste'], dtype='object', name='fuel_type_code_pudl')"
      ]
     },
     "execution_count": 73,
     "metadata": {},
     "output_type": "execute_result"
    }
   ],
   "source": [
    "to_drop=['other']\n",
    "scale.drop(to_drop, axis=0, inplace=True)\n",
    "scale.index.unique()"
   ]
  },
  {
   "cell_type": "code",
   "execution_count": 74,
   "metadata": {},
   "outputs": [],
   "source": [
    "scale.loc['coal'] = scale_coal\n",
    "scale.loc['gas'] = scale_gas\n",
    "scale.loc['nuclear'] = scale_nuclear\n",
    "scale.loc['oil'] = scale_oil\n",
    "scale.loc['waste'] = scale_waste"
   ]
  },
  {
   "cell_type": "code",
   "execution_count": 75,
   "metadata": {
    "scrolled": true
   },
   "outputs": [
    {
     "data": {
      "text/html": [
       "<div>\n",
       "<style scoped>\n",
       "    .dataframe tbody tr th:only-of-type {\n",
       "        vertical-align: middle;\n",
       "    }\n",
       "\n",
       "    .dataframe tbody tr th {\n",
       "        vertical-align: top;\n",
       "    }\n",
       "\n",
       "    .dataframe thead th {\n",
       "        text-align: right;\n",
       "    }\n",
       "</style>\n",
       "<table border=\"1\" class=\"dataframe\">\n",
       "  <thead>\n",
       "    <tr style=\"text-align: right;\">\n",
       "      <th></th>\n",
       "      <th>utility_id_ferc1</th>\n",
       "      <th>report_year</th>\n",
       "      <th>fuel_qty_burned</th>\n",
       "      <th>fuel_mmbtu_per_unit</th>\n",
       "      <th>fuel_cost_per_unit_burned</th>\n",
       "      <th>fuel_cost_per_unit_delivered</th>\n",
       "      <th>fuel_cost_per_mmbtu</th>\n",
       "    </tr>\n",
       "  </thead>\n",
       "  <tbody>\n",
       "    <tr>\n",
       "      <th>count</th>\n",
       "      <td>29212.000000</td>\n",
       "      <td>29212.000000</td>\n",
       "      <td>2.783700e+04</td>\n",
       "      <td>25582.000000</td>\n",
       "      <td>28943.000000</td>\n",
       "      <td>29074.000000</td>\n",
       "      <td>27218.000000</td>\n",
       "    </tr>\n",
       "    <tr>\n",
       "      <th>mean</th>\n",
       "      <td>118.563399</td>\n",
       "      <td>2005.842667</td>\n",
       "      <td>1.310615e+06</td>\n",
       "      <td>6.464669</td>\n",
       "      <td>169.536049</td>\n",
       "      <td>40.335158</td>\n",
       "      <td>19.753759</td>\n",
       "    </tr>\n",
       "    <tr>\n",
       "      <th>std</th>\n",
       "      <td>74.334964</td>\n",
       "      <td>7.018232</td>\n",
       "      <td>3.208562e+06</td>\n",
       "      <td>7.968860</td>\n",
       "      <td>2499.499132</td>\n",
       "      <td>203.946935</td>\n",
       "      <td>2177.700018</td>\n",
       "    </tr>\n",
       "    <tr>\n",
       "      <th>min</th>\n",
       "      <td>1.000000</td>\n",
       "      <td>1994.000000</td>\n",
       "      <td>1.000000e+00</td>\n",
       "      <td>0.000001</td>\n",
       "      <td>-7.700000</td>\n",
       "      <td>-874.937000</td>\n",
       "      <td>-41.501000</td>\n",
       "    </tr>\n",
       "    <tr>\n",
       "      <th>25%</th>\n",
       "      <td>55.000000</td>\n",
       "      <td>2000.000000</td>\n",
       "      <td>1.226000e+04</td>\n",
       "      <td>1.021000</td>\n",
       "      <td>5.210000</td>\n",
       "      <td>3.799250</td>\n",
       "      <td>2.030000</td>\n",
       "    </tr>\n",
       "    <tr>\n",
       "      <th>50%</th>\n",
       "      <td>122.000000</td>\n",
       "      <td>2006.000000</td>\n",
       "      <td>2.012790e+05</td>\n",
       "      <td>5.576424</td>\n",
       "      <td>25.825000</td>\n",
       "      <td>17.445000</td>\n",
       "      <td>4.582500</td>\n",
       "    </tr>\n",
       "    <tr>\n",
       "      <th>75%</th>\n",
       "      <td>176.000000</td>\n",
       "      <td>2012.000000</td>\n",
       "      <td>1.182377e+06</td>\n",
       "      <td>5.880000</td>\n",
       "      <td>46.340500</td>\n",
       "      <td>42.014250</td>\n",
       "      <td>8.229750</td>\n",
       "    </tr>\n",
       "    <tr>\n",
       "      <th>max</th>\n",
       "      <td>514.000000</td>\n",
       "      <td>2018.000000</td>\n",
       "      <td>5.003856e+07</td>\n",
       "      <td>66.100389</td>\n",
       "      <td>69785.215000</td>\n",
       "      <td>10451.000000</td>\n",
       "      <td>359278.000000</td>\n",
       "    </tr>\n",
       "  </tbody>\n",
       "</table>\n",
       "</div>"
      ],
      "text/plain": [
       "       utility_id_ferc1   report_year  fuel_qty_burned  fuel_mmbtu_per_unit  \\\n",
       "count      29212.000000  29212.000000     2.783700e+04         25582.000000   \n",
       "mean         118.563399   2005.842667     1.310615e+06             6.464669   \n",
       "std           74.334964      7.018232     3.208562e+06             7.968860   \n",
       "min            1.000000   1994.000000     1.000000e+00             0.000001   \n",
       "25%           55.000000   2000.000000     1.226000e+04             1.021000   \n",
       "50%          122.000000   2006.000000     2.012790e+05             5.576424   \n",
       "75%          176.000000   2012.000000     1.182377e+06             5.880000   \n",
       "max          514.000000   2018.000000     5.003856e+07            66.100389   \n",
       "\n",
       "       fuel_cost_per_unit_burned  fuel_cost_per_unit_delivered  \\\n",
       "count               28943.000000                  29074.000000   \n",
       "mean                  169.536049                     40.335158   \n",
       "std                  2499.499132                    203.946935   \n",
       "min                    -7.700000                   -874.937000   \n",
       "25%                     5.210000                      3.799250   \n",
       "50%                    25.825000                     17.445000   \n",
       "75%                    46.340500                     42.014250   \n",
       "max                 69785.215000                  10451.000000   \n",
       "\n",
       "       fuel_cost_per_mmbtu  \n",
       "count         27218.000000  \n",
       "mean             19.753759  \n",
       "std            2177.700018  \n",
       "min             -41.501000  \n",
       "25%               2.030000  \n",
       "50%               4.582500  \n",
       "75%               8.229750  \n",
       "max          359278.000000  "
      ]
     },
     "execution_count": 75,
     "metadata": {},
     "output_type": "execute_result"
    }
   ],
   "source": [
    "scale.describe()"
   ]
  },
  {
   "cell_type": "code",
   "execution_count": 76,
   "metadata": {},
   "outputs": [
    {
     "data": {
      "text/plain": [
       "record_id                          0\n",
       "utility_id_ferc1                   0\n",
       "report_year                        0\n",
       "plant_name_ferc1                   0\n",
       "fuel_unit                          0\n",
       "fuel_qty_burned                 1375\n",
       "fuel_mmbtu_per_unit             3630\n",
       "fuel_cost_per_unit_burned        269\n",
       "fuel_cost_per_unit_delivered     138\n",
       "fuel_cost_per_mmbtu             1994\n",
       "dtype: int64"
      ]
     },
     "execution_count": 76,
     "metadata": {},
     "output_type": "execute_result"
    }
   ],
   "source": [
    "scale.isnull().sum()"
   ]
  },
  {
   "cell_type": "code",
   "execution_count": null,
   "metadata": {},
   "outputs": [],
   "source": [
    "scale = scale.fillna(scale.mean())"
   ]
  },
  {
   "cell_type": "code",
   "execution_count": 91,
   "metadata": {
    "scrolled": true
   },
   "outputs": [
    {
     "data": {
      "text/plain": [
       "utility_id_ferc1                0\n",
       "report_year                     0\n",
       "fuel_unit                       0\n",
       "fuel_qty_burned                 0\n",
       "fuel_mmbtu_per_unit             0\n",
       "fuel_cost_per_unit_burned       0\n",
       "fuel_cost_per_unit_delivered    0\n",
       "fuel_cost_per_mmbtu             0\n",
       "fuel_lost_per_unit              0\n",
       "energy emitted                  0\n",
       "dtype: int64"
      ]
     },
     "execution_count": 91,
     "metadata": {},
     "output_type": "execute_result"
    }
   ],
   "source": [
    "scale.isnull().sum()"
   ]
  },
  {
   "cell_type": "code",
   "execution_count": 90,
   "metadata": {},
   "outputs": [
    {
     "data": {
      "text/plain": [
       "(29212, 10)"
      ]
     },
     "execution_count": 90,
     "metadata": {},
     "output_type": "execute_result"
    }
   ],
   "source": [
    "scale.shape"
   ]
  },
  {
   "cell_type": "code",
   "execution_count": 97,
   "metadata": {},
   "outputs": [],
   "source": [
    "data = scale\n",
    "\n",
    "to_drop = ['record_id', 'plant_name_ferc1']\n",
    "data.drop(to_drop, axis=1, inplace=True)"
   ]
  },
  {
   "cell_type": "code",
   "execution_count": 150,
   "metadata": {},
   "outputs": [
    {
     "data": {
      "text/html": [
       "<div>\n",
       "<style scoped>\n",
       "    .dataframe tbody tr th:only-of-type {\n",
       "        vertical-align: middle;\n",
       "    }\n",
       "\n",
       "    .dataframe tbody tr th {\n",
       "        vertical-align: top;\n",
       "    }\n",
       "\n",
       "    .dataframe thead th {\n",
       "        text-align: right;\n",
       "    }\n",
       "</style>\n",
       "<table border=\"1\" class=\"dataframe\">\n",
       "  <thead>\n",
       "    <tr style=\"text-align: right;\">\n",
       "      <th></th>\n",
       "      <th>fuel_type_code_pudl</th>\n",
       "      <th>utility_id_ferc1</th>\n",
       "      <th>report_year</th>\n",
       "      <th>fuel_unit</th>\n",
       "      <th>fuel_qty_burned</th>\n",
       "      <th>fuel_mmbtu_per_unit</th>\n",
       "      <th>fuel_cost_per_unit_burned</th>\n",
       "      <th>fuel_cost_per_unit_delivered</th>\n",
       "      <th>fuel_cost_per_mmbtu</th>\n",
       "      <th>fuel_lost_per_unit</th>\n",
       "      <th>fuel_price</th>\n",
       "      <th>energy generated</th>\n",
       "    </tr>\n",
       "  </thead>\n",
       "  <tbody>\n",
       "    <tr>\n",
       "      <th>0</th>\n",
       "      <td>coal</td>\n",
       "      <td>1</td>\n",
       "      <td>1994</td>\n",
       "      <td>ton</td>\n",
       "      <td>5.377489e+06</td>\n",
       "      <td>6.464669</td>\n",
       "      <td>18.59</td>\n",
       "      <td>18.53</td>\n",
       "      <td>1.121</td>\n",
       "      <td>0.06</td>\n",
       "      <td>9.996752e+07</td>\n",
       "      <td>3.476369e+07</td>\n",
       "    </tr>\n",
       "    <tr>\n",
       "      <th>1</th>\n",
       "      <td>coal</td>\n",
       "      <td>1</td>\n",
       "      <td>1994</td>\n",
       "      <td>ton</td>\n",
       "      <td>1.310615e+06</td>\n",
       "      <td>6.464669</td>\n",
       "      <td>18.58</td>\n",
       "      <td>18.53</td>\n",
       "      <td>1.120</td>\n",
       "      <td>0.05</td>\n",
       "      <td>2.435122e+07</td>\n",
       "      <td>8.472690e+06</td>\n",
       "    </tr>\n",
       "    <tr>\n",
       "      <th>2</th>\n",
       "      <td>coal</td>\n",
       "      <td>2</td>\n",
       "      <td>1994</td>\n",
       "      <td>ton</td>\n",
       "      <td>2.978683e+06</td>\n",
       "      <td>24.130000</td>\n",
       "      <td>39.72</td>\n",
       "      <td>38.12</td>\n",
       "      <td>1.650</td>\n",
       "      <td>1.60</td>\n",
       "      <td>1.183133e+08</td>\n",
       "      <td>7.187562e+07</td>\n",
       "    </tr>\n",
       "    <tr>\n",
       "      <th>3</th>\n",
       "      <td>coal</td>\n",
       "      <td>2</td>\n",
       "      <td>1994</td>\n",
       "      <td>ton</td>\n",
       "      <td>3.739484e+06</td>\n",
       "      <td>23.950000</td>\n",
       "      <td>47.21</td>\n",
       "      <td>45.99</td>\n",
       "      <td>1.970</td>\n",
       "      <td>1.22</td>\n",
       "      <td>1.765410e+08</td>\n",
       "      <td>8.956064e+07</td>\n",
       "    </tr>\n",
       "    <tr>\n",
       "      <th>4</th>\n",
       "      <td>gas</td>\n",
       "      <td>2</td>\n",
       "      <td>1994</td>\n",
       "      <td>mcf</td>\n",
       "      <td>4.053300e+04</td>\n",
       "      <td>1.000000</td>\n",
       "      <td>2.77</td>\n",
       "      <td>2.77</td>\n",
       "      <td>2.570</td>\n",
       "      <td>0.00</td>\n",
       "      <td>1.122764e+05</td>\n",
       "      <td>4.053300e+04</td>\n",
       "    </tr>\n",
       "  </tbody>\n",
       "</table>\n",
       "</div>"
      ],
      "text/plain": [
       "  fuel_type_code_pudl  utility_id_ferc1  report_year fuel_unit  \\\n",
       "0                coal                 1         1994       ton   \n",
       "1                coal                 1         1994       ton   \n",
       "2                coal                 2         1994       ton   \n",
       "3                coal                 2         1994       ton   \n",
       "4                 gas                 2         1994       mcf   \n",
       "\n",
       "   fuel_qty_burned  fuel_mmbtu_per_unit  fuel_cost_per_unit_burned  \\\n",
       "0     5.377489e+06             6.464669                      18.59   \n",
       "1     1.310615e+06             6.464669                      18.58   \n",
       "2     2.978683e+06            24.130000                      39.72   \n",
       "3     3.739484e+06            23.950000                      47.21   \n",
       "4     4.053300e+04             1.000000                       2.77   \n",
       "\n",
       "   fuel_cost_per_unit_delivered  fuel_cost_per_mmbtu  fuel_lost_per_unit  \\\n",
       "0                         18.53                1.121                0.06   \n",
       "1                         18.53                1.120                0.05   \n",
       "2                         38.12                1.650                1.60   \n",
       "3                         45.99                1.970                1.22   \n",
       "4                          2.77                2.570                0.00   \n",
       "\n",
       "     fuel_price  energy generated  \n",
       "0  9.996752e+07      3.476369e+07  \n",
       "1  2.435122e+07      8.472690e+06  \n",
       "2  1.183133e+08      7.187562e+07  \n",
       "3  1.765410e+08      8.956064e+07  \n",
       "4  1.122764e+05      4.053300e+04  "
      ]
     },
     "execution_count": 150,
     "metadata": {},
     "output_type": "execute_result"
    }
   ],
   "source": [
    "# CREATING NEW COLUMNS THAT COULD BE NECESSARY FOR ANALYSIS\n",
    "\n",
    "data['fuel_lost_per_unit'] = data['fuel_cost_per_unit_burned'] - data['fuel_cost_per_unit_delivered']\n",
    "data['fuel_price'] = data['fuel_qty_burned'] * data['fuel_cost_per_unit_burned']\n",
    "data['energy generated'] = data['fuel_mmbtu_per_unit'] * data['fuel_qty_burned']\n",
    "\n",
    "data.head()"
   ]
  },
  {
   "cell_type": "code",
   "execution_count": 158,
   "metadata": {},
   "outputs": [
    {
     "data": {
      "text/plain": [
       "(29212, 12)"
      ]
     },
     "execution_count": 158,
     "metadata": {},
     "output_type": "execute_result"
    }
   ],
   "source": [
    "data.shape"
   ]
  },
  {
   "cell_type": "code",
   "execution_count": 105,
   "metadata": {},
   "outputs": [],
   "source": [
    "# data = data.reset_index()\n",
    "# data.to_csv('C:\\\\Users\\\\Sharon\\\\HAMOYE\\\\cleaned_fuel_ferc1.csv')"
   ]
  },
  {
   "cell_type": "markdown",
   "metadata": {},
   "source": [
    "> **DATA VISUALIZATIONS** "
   ]
  },
  {
   "cell_type": "code",
   "execution_count": 151,
   "metadata": {},
   "outputs": [
    {
     "data": {
      "text/plain": [
       "<matplotlib.axes._subplots.AxesSubplot at 0x1c817c58f60>"
      ]
     },
     "execution_count": 151,
     "metadata": {},
     "output_type": "execute_result"
    },
    {
     "data": {
      "image/png": "[encoded data removed]",
      "text/plain": [
       "<Figure size 576x576 with 2 Axes>"
      ]
     },
     "metadata": {
      "needs_background": "light"
     },
     "output_type": "display_data"
    }
   ],
   "source": [
    "# PLOTTING A CORRELATION MATRIX\n",
    "\n",
    "corr = data.corr()\n",
    "corr.shape\n",
    "plt.rcParams['figure.figsize']=(8,8)\n",
    "sns.heatmap(corr, cbar=True, fmt='.1f', annot=True, annot_kws={'size':15}, cmap='Blues')"
   ]
  },
  {
   "cell_type": "code",
   "execution_count": 118,
   "metadata": {},
   "outputs": [
    {
     "data": {
      "text/plain": [
       "(0, 11017.33612966215)"
      ]
     },
     "execution_count": 118,
     "metadata": {},
     "output_type": "execute_result"
    },
    {
     "data": {
      "image/png": "[encoded data removed]",
      "text/plain": [
       "<Figure size 576x576 with 1 Axes>"
      ]
     },
     "metadata": {
      "needs_background": "light"
     },
     "output_type": "display_data"
    }
   ],
   "source": [
    "sns.regplot(x=data['fuel_cost_per_unit_burned'], y=data['fuel_cost_per_unit_delivered'])\n",
    "plt.ylim(0,)"
   ]
  },
  {
   "cell_type": "markdown",
   "metadata": {},
   "source": [
    "- Fig. 1 _Correlation between cost of fuel burned and cost of fuel delivered_ "
   ]
  },
  {
   "cell_type": "code",
   "execution_count": 126,
   "metadata": {},
   "outputs": [
    {
     "data": {
      "image/png": "[encoded data removed]",
      "text/plain": [
       "<Figure size 576x576 with 1 Axes>"
      ]
     },
     "metadata": {
      "needs_background": "light"
     },
     "output_type": "display_data"
    }
   ],
   "source": [
    "ax= sns.lineplot(x='report_year', y='fuel_qty_burned', data=data)"
   ]
  },
  {
   "cell_type": "markdown",
   "metadata": {},
   "source": [
    "- Fig. 2 _Quantity of fuel burned over the years_"
   ]
  },
  {
   "cell_type": "code",
   "execution_count": 162,
   "metadata": {
    "scrolled": false
   },
   "outputs": [
    {
     "data": {
      "image/png": "[encoded data removed]",
      "text/plain": [
       "<Figure size 720x504 with 1 Axes>"
      ]
     },
     "metadata": {
      "needs_background": "light"
     },
     "output_type": "display_data"
    }
   ],
   "source": [
    "plt.rcParams['figure.figsize']=(10,7)\n",
    "ax= sns.lineplot(x='report_year', y='fuel_lost_per_unit', data=data)"
   ]
  },
  {
   "cell_type": "markdown",
   "metadata": {},
   "source": [
    "- Fig. 3 _Per unit cost of fuel lost from the difference in cost of fuel burned and cost of fuel delivered_ "
   ]
  },
  {
   "cell_type": "code",
   "execution_count": 152,
   "metadata": {
    "scrolled": false
   },
   "outputs": [
    {
     "data": {
      "text/plain": [
       "<seaborn.axisgrid.FacetGrid at 0x1c817cb19e8>"
      ]
     },
     "execution_count": 152,
     "metadata": {},
     "output_type": "execute_result"
    },
    {
     "data": {
      "image/png": "[encoded data removed]",
      "text/plain": [
       "<Figure size 360x360 with 1 Axes>"
      ]
     },
     "metadata": {
      "needs_background": "light"
     },
     "output_type": "display_data"
    }
   ],
   "source": [
    "sns.catplot(x = \"fuel_type_code_pudl\", y = \"energy generated\", data=data)"
   ]
  },
  {
   "cell_type": "markdown",
   "metadata": {},
   "source": [
    "- Fig. 4 _Amount of energy generated by the fuel types_"
   ]
  },
  {
   "cell_type": "code",
   "execution_count": 156,
   "metadata": {},
   "outputs": [
    {
     "data": {
      "image/png": "[encoded data removed]",
      "text/plain": [
       "<Figure size 1440x360 with 1 Axes>"
      ]
     },
     "metadata": {
      "needs_background": "light"
     },
     "output_type": "display_data"
    }
   ],
   "source": [
    "plt.rcParams['figure.figsize']=(20,5)\n",
    "ax = sns.barplot(x=\"report_year\", y=\"energy generated\", hue=\"fuel_type_code_pudl\",\n",
    "                   data=data, dodge=True)"
   ]
  },
  {
   "cell_type": "markdown",
   "metadata": {},
   "source": [
    "- Fig. 5 _Electrical energy generation across different years for each fuel type_"
   ]
  },
  {
   "cell_type": "code",
   "execution_count": 155,
   "metadata": {},
   "outputs": [
    {
     "data": {
      "text/plain": [
       "<seaborn.axisgrid.FacetGrid at 0x1c815c15278>"
      ]
     },
     "execution_count": 155,
     "metadata": {},
     "output_type": "execute_result"
    },
    {
     "data": {
      "image/png": "[encoded data removed]",
      "text/plain": [
       "<Figure size 360x360 with 1 Axes>"
      ]
     },
     "metadata": {
      "needs_background": "light"
     },
     "output_type": "display_data"
    }
   ],
   "source": [
    "sns.catplot(x = \"fuel_type_code_pudl\", y = \"fuel_price\", data=data)"
   ]
  },
  {
   "cell_type": "markdown",
   "metadata": {},
   "source": [
    "- Fig. 6 _Cost effectiveness of the different fuel types_"
   ]
  },
  {
   "cell_type": "code",
   "execution_count": 157,
   "metadata": {
    "scrolled": true
   },
   "outputs": [
    {
     "data": {
      "image/png": "[encoded data removed]",
      "text/plain": [
       "<Figure size 1440x360 with 1 Axes>"
      ]
     },
     "metadata": {
      "needs_background": "light"
     },
     "output_type": "display_data"
    }
   ],
   "source": [
    "plt.rcParams['figure.figsize']=(20,5)\n",
    "ax = sns.pointplot(x=\"report_year\", y=\"utility_id_ferc1\", hue=\"fuel_type_code_pudl\", data=data, dodge=True)"
   ]
  },
  {
   "cell_type": "markdown",
   "metadata": {},
   "source": [
    "- Fig. 7 _Trends of fuel types usage across different electric utilities over the years_"
   ]
  },
  {
   "cell_type": "code",
   "execution_count": 154,
   "metadata": {},
   "outputs": [
    {
     "data": {
      "text/plain": [
       "<matplotlib.axes._subplots.AxesSubplot at 0x1c817eda4a8>"
      ]
     },
     "execution_count": 154,
     "metadata": {},
     "output_type": "execute_result"
    },
    {
     "data": {
      "image/png": "[encoded data removed]",
      "text/plain": [
       "<Figure size 576x576 with 1 Axes>"
      ]
     },
     "metadata": {
      "needs_background": "light"
     },
     "output_type": "display_data"
    }
   ],
   "source": [
    "sns.boxplot(x = data['fuel_type_code_pudl'], y=data['report_year'])"
   ]
  },
  {
   "cell_type": "markdown",
   "metadata": {},
   "source": [
    "- Fig. 8 _Comparing different fuel types usage over the years._"
   ]
  },
  {
   "cell_type": "markdown",
   "metadata": {},
   "source": [
    ">**ANALYSIS SUMMARY**"
   ]
  },
  {
   "cell_type": "markdown",
   "metadata": {},
   "source": [
    "Figure 1 displays a positive correlation between the cost of fuel burned and the cost of fuel delivered. Inferring most likely that, the higher the cost spent on fuel, the higher the electric bill. \n",
    "The cost of fuel per its unit, affects the total cost of fuel burned. Therefore, it could be a concern to electric utilities to provide electricity, yet with less cost as in Fig 2 where the recent rise in the demand of electricity is reflected on the quantity of fuel burned. However, over the years there has been a cost difference between the fuel burned and the fuel delivered, where the highest loss was in the 1995 era, while 2010 to 2018 have had a stable amount of fuel lost (Fig. 3).\n",
    "\n",
    "From the information gathered in the datasets, the fuel types used are: `coal`, `gas`, `oil`, `waste` and `nuclear`, where the latter is a non-fossil fuel unlike the others. Fossil fuels are well known to emit greenhouses gases, which pose as a threat to the atmosphere. That is why, when generating electricity, electric utilities produce so much of these gases. As much as there is need for electricity, it will be more accomodating if there were to be fuel types in use that emit little to no greenhouse gas when burning.\n",
    "\n",
    "In light of this, comparing between nuclear and other fuel types, as seen in Figure 4, `coal` and `nuclear` have a similar ability to generate electrical energy. Also, Figure 6, revealed the cost spent on the amount of fuel burned. It showed that the most economical are `nuclear`, `oil` and `waste`; drawing to a fact that nuclear is cheaper than coal and can generate good amount of energy too. \n",
    "\n",
    "When checking the frequency of these fuel types in use by electric utilities over the years (Fig. 8), nuclear was predominant just around the early 2000s, while fossil fuels seemed to be more embraced in recent years. But studying the trends shown in Figure 7, despite the fall in the use of `nuclear` between 2006 - 2014 by different utilities, there has been however, a rise again from 2015 onwards. On the other hand, natural `gas` and `coal` have been highly patronized, having the former and `waste` as the most used fuel types in the electricity generating sector over the years.\n",
    "\n",
    "Conclusively, to curb the threat of global warming, there should be an increase in the use of non-fossil sources of energy, as they are non-emitting when generating electricity."
   ]
  },
  {
   "cell_type": "code",
   "execution_count": null,
   "metadata": {},
   "outputs": [],
   "source": []
  }
 ],
 "metadata": {
  "kernelspec": {
   "display_name": "Python 3",
   "language": "python",
   "name": "python3"
  },
  "language_info": {
   "codemirror_mode": {
    "name": "ipython",
    "version": 3
   },
   "file_extension": ".py",
   "mimetype": "text/x-python",
   "name": "python",
   "nbconvert_exporter": "python",
   "pygments_lexer": "ipython3",
   "version": "3.7.3"
  }
 },
 "nbformat": 4,
 "nbformat_minor": 2
}
